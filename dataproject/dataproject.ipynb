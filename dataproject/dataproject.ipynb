{
 "cells": [
  {
   "cell_type": "markdown",
   "metadata": {},
   "source": [
    "# Group 1 - Data Project - Covid-19  "
   ]
  },
  {
   "cell_type": "markdown",
   "metadata": {},
   "source": [
    "> **Note the following: AND WE SHOULD DELETE THIS EVENTUALLY ** \n",
    "> 1. This is *not* meant to be an example of an actual **data analysis project**, just an example of how to structure such a project.\n",
    "> 1. Remember the general advice on structuring and commenting your code from [lecture 5](https://numeconcopenhagen.netlify.com/lectures/Workflow_and_debugging).\n",
    "> 1. Remember this [guide](https://www.markdownguide.org/basic-syntax/) on markdown and (a bit of) latex.\n",
    "> 1. Turn on automatic numbering by clicking on the small icon on top of the table of contents in the left sidebar.\n",
    "> 1. The `dataproject.py` file includes a function which will be used multiple times in this notebook."
   ]
  },
  {
   "cell_type": "markdown",
   "metadata": {},
   "source": [
    "Imports and set magics:"
   ]
  },
  {
   "cell_type": "code",
   "execution_count": 1,
   "metadata": {},
   "outputs": [],
   "source": [
    "import pandas as pd\n",
    "import matplotlib.pyplot as plt\n",
    "import ipywidgets as widgets\n",
    "import folium\n",
    "import plotly.express as px\n",
    "import requests\n",
    "import numpy as np \n",
    "import ipywidgets as widgets\n",
    "from matplotlib_venn import venn2 # install with pip install matplotlib-venn\n",
    "from ipywidgets import interact, interactive, fixed, interact_manual\n",
    "\n",
    "# autoreload modules when code is run\n",
    "%load_ext autoreload\n",
    "%autoreload 2\n",
    "\n",
    "# local modules\n",
    "import dataproject"
   ]
  },
  {
   "cell_type": "markdown",
   "metadata": {
    "toc-hr-collapsed": true
   },
   "source": [
    "# Read and clean data"
   ]
  },
  {
   "cell_type": "markdown",
   "metadata": {},
   "source": [
    "## Covid-19 data retrieved from The Humanitarian Data Exchange collected by the John Hopkin's Hospital. We are using data on confirmed covid-19 cases, deaths due to covid-19, recovered patients of covid-19 and data on each individual country ##"
   ]
  },
  {
   "cell_type": "markdown",
   "metadata": {},
   "source": [
    "**Read the CSSEGIS data** on covid-19 retrieved from the official data repository for the 2019 Novel Coronavirus Visual Dashboard operated by the Johns Hopkins University Center for Systems Science and Engineering (JHU CSSE). Also, Supported by ESRI Living Atlas Team and the Johns Hopkins University Applied Physics Lab (JHU APL). The data is **cleaned**, removing and renaming columns:"
   ]
  },
  {
   "cell_type": "code",
   "execution_count": 3,
   "metadata": {},
   "outputs": [],
   "source": [
    "# a. Loading data\n",
    "death = pd.read_csv('https://raw.githubusercontent.com/CSSEGISandData/COVID-19/master/csse_covid_19_data/csse_covid_19_time_series/time_series_covid19_deaths_global.csv')\n",
    "confirmed = pd.read_csv('https://raw.githubusercontent.com/CSSEGISandData/COVID-19/master/csse_covid_19_data/csse_covid_19_time_series/time_series_covid19_confirmed_global.csv')\n",
    "recovered = pd.read_csv('https://raw.githubusercontent.com/CSSEGISandData/COVID-19/master/csse_covid_19_data/csse_covid_19_time_series/time_series_covid19_recovered_global.csv')\n",
    "country = pd.read_csv('https://raw.githubusercontent.com/CSSEGISandData/COVID-19/web-data/data/cases_country.csv')\n",
    "\n",
    "# b. Renaming the column names to lowercase\n",
    "country.columns = map(str.lower, country.columns)\n",
    "confirmed.columns = map(str.lower, confirmed.columns)\n",
    "death.columns = map(str.lower, death.columns)\n",
    "recovered.columns = map(str.lower, recovered.columns)\n",
    "\n",
    "# c. Renaming country/region to country\n",
    "confirmed = confirmed.rename(columns={'country/region': 'country'})\n",
    "recovered = recovered.rename(columns={'country/region': 'country'})\n",
    "death = death.rename(columns={'country/region': 'country'})\n",
    "country = country.rename(columns={'country_region': 'country'})\n",
    "\n",
    "# d. Droping columns\n",
    "drop_these = ['province/state', 'lat', 'long']\n",
    "confirmed.drop(drop_these, axis=1, inplace=True)\n",
    "recovered.drop(drop_these, axis=1, inplace=True)\n",
    "death.drop(drop_these, axis=1, inplace=True)"
   ]
  },
  {
   "cell_type": "markdown",
   "metadata": {},
   "source": [
    "**Visualising the worst-hit countries**\n"
   ]
  },
  {
   "cell_type": "code",
   "execution_count": 7,
   "metadata": {},
   "outputs": [
    {
     "output_type": "display_data",
     "data": {
      "text/plain": "<pandas.io.formats.style.Styler at 0x101f903210>",
      "text/html": "<style  type=\"text/css\" >\n    #T_c1d8ed46_7660_11ea_98f0_a8667f01c8darow0_col4 {\n            background-color:  darkblue;\n        }    #T_c1d8ed46_7660_11ea_98f0_a8667f01c8darow0_col5 {\n            background-color:  blue;\n        }    #T_c1d8ed46_7660_11ea_98f0_a8667f01c8darow0_col6 {\n            background-color:  green;\n        }    #T_c1d8ed46_7660_11ea_98f0_a8667f01c8darow1_col4 {\n            background-color:  darkblue;\n        }    #T_c1d8ed46_7660_11ea_98f0_a8667f01c8darow1_col5 {\n            background-color:  blue;\n        }    #T_c1d8ed46_7660_11ea_98f0_a8667f01c8darow1_col6 {\n            background-color:  green;\n        }    #T_c1d8ed46_7660_11ea_98f0_a8667f01c8darow2_col4 {\n            background-color:  darkblue;\n        }    #T_c1d8ed46_7660_11ea_98f0_a8667f01c8darow2_col5 {\n            background-color:  blue;\n        }    #T_c1d8ed46_7660_11ea_98f0_a8667f01c8darow2_col6 {\n            background-color:  green;\n        }    #T_c1d8ed46_7660_11ea_98f0_a8667f01c8darow3_col4 {\n            background-color:  darkblue;\n        }    #T_c1d8ed46_7660_11ea_98f0_a8667f01c8darow3_col5 {\n            background-color:  blue;\n        }    #T_c1d8ed46_7660_11ea_98f0_a8667f01c8darow3_col6 {\n            background-color:  green;\n        }    #T_c1d8ed46_7660_11ea_98f0_a8667f01c8darow4_col4 {\n            background-color:  darkblue;\n        }    #T_c1d8ed46_7660_11ea_98f0_a8667f01c8darow4_col5 {\n            background-color:  blue;\n        }    #T_c1d8ed46_7660_11ea_98f0_a8667f01c8darow4_col6 {\n            background-color:  green;\n        }    #T_c1d8ed46_7660_11ea_98f0_a8667f01c8darow5_col4 {\n            background-color:  darkblue;\n        }    #T_c1d8ed46_7660_11ea_98f0_a8667f01c8darow5_col5 {\n            background-color:  blue;\n        }    #T_c1d8ed46_7660_11ea_98f0_a8667f01c8darow5_col6 {\n            background-color:  green;\n        }    #T_c1d8ed46_7660_11ea_98f0_a8667f01c8darow6_col4 {\n            background-color:  darkblue;\n        }    #T_c1d8ed46_7660_11ea_98f0_a8667f01c8darow6_col5 {\n            background-color:  blue;\n        }    #T_c1d8ed46_7660_11ea_98f0_a8667f01c8darow6_col6 {\n            background-color:  green;\n        }    #T_c1d8ed46_7660_11ea_98f0_a8667f01c8darow7_col4 {\n            background-color:  darkblue;\n        }    #T_c1d8ed46_7660_11ea_98f0_a8667f01c8darow7_col5 {\n            background-color:  blue;\n        }    #T_c1d8ed46_7660_11ea_98f0_a8667f01c8darow7_col6 {\n            background-color:  green;\n        }    #T_c1d8ed46_7660_11ea_98f0_a8667f01c8darow8_col4 {\n            background-color:  darkblue;\n        }    #T_c1d8ed46_7660_11ea_98f0_a8667f01c8darow8_col5 {\n            background-color:  blue;\n        }    #T_c1d8ed46_7660_11ea_98f0_a8667f01c8darow8_col6 {\n            background-color:  green;\n        }    #T_c1d8ed46_7660_11ea_98f0_a8667f01c8darow9_col4 {\n            background-color:  darkblue;\n        }    #T_c1d8ed46_7660_11ea_98f0_a8667f01c8darow9_col5 {\n            background-color:  blue;\n        }    #T_c1d8ed46_7660_11ea_98f0_a8667f01c8darow9_col6 {\n            background-color:  green;\n        }</style><table id=\"T_c1d8ed46_7660_11ea_98f0_a8667f01c8da\" ><thead>    <tr>        <th class=\"blank level0\" ></th>        <th class=\"col_heading level0 col0\" >country</th>        <th class=\"col_heading level0 col1\" >last_update</th>        <th class=\"col_heading level0 col2\" >lat</th>        <th class=\"col_heading level0 col3\" >long_</th>        <th class=\"col_heading level0 col4\" >confirmed</th>        <th class=\"col_heading level0 col5\" >deaths</th>        <th class=\"col_heading level0 col6\" >recovered</th>        <th class=\"col_heading level0 col7\" >active</th>    </tr></thead><tbody>\n                <tr>\n                        <th id=\"T_c1d8ed46_7660_11ea_98f0_a8667f01c8dalevel0_row0\" class=\"row_heading level0 row0\" >17</th>\n                        <td id=\"T_c1d8ed46_7660_11ea_98f0_a8667f01c8darow0_col0\" class=\"data row0 col0\" >US</td>\n                        <td id=\"T_c1d8ed46_7660_11ea_98f0_a8667f01c8darow0_col1\" class=\"data row0 col1\" >2020-04-04 09:36:23</td>\n                        <td id=\"T_c1d8ed46_7660_11ea_98f0_a8667f01c8darow0_col2\" class=\"data row0 col2\" >40</td>\n                        <td id=\"T_c1d8ed46_7660_11ea_98f0_a8667f01c8darow0_col3\" class=\"data row0 col3\" >-100</td>\n                        <td id=\"T_c1d8ed46_7660_11ea_98f0_a8667f01c8darow0_col4\" class=\"data row0 col4\" >278458</td>\n                        <td id=\"T_c1d8ed46_7660_11ea_98f0_a8667f01c8darow0_col5\" class=\"data row0 col5\" >7159</td>\n                        <td id=\"T_c1d8ed46_7660_11ea_98f0_a8667f01c8darow0_col6\" class=\"data row0 col6\" >9897</td>\n                        <td id=\"T_c1d8ed46_7660_11ea_98f0_a8667f01c8darow0_col7\" class=\"data row0 col7\" >0</td>\n            </tr>\n            <tr>\n                        <th id=\"T_c1d8ed46_7660_11ea_98f0_a8667f01c8dalevel0_row1\" class=\"row_heading level0 row1\" >10</th>\n                        <td id=\"T_c1d8ed46_7660_11ea_98f0_a8667f01c8darow1_col0\" class=\"data row1 col0\" >Italy</td>\n                        <td id=\"T_c1d8ed46_7660_11ea_98f0_a8667f01c8darow1_col1\" class=\"data row1 col1\" >2020-04-04 09:36:02</td>\n                        <td id=\"T_c1d8ed46_7660_11ea_98f0_a8667f01c8darow1_col2\" class=\"data row1 col2\" >41.8719</td>\n                        <td id=\"T_c1d8ed46_7660_11ea_98f0_a8667f01c8darow1_col3\" class=\"data row1 col3\" >12.5674</td>\n                        <td id=\"T_c1d8ed46_7660_11ea_98f0_a8667f01c8darow1_col4\" class=\"data row1 col4\" >119827</td>\n                        <td id=\"T_c1d8ed46_7660_11ea_98f0_a8667f01c8darow1_col5\" class=\"data row1 col5\" >14681</td>\n                        <td id=\"T_c1d8ed46_7660_11ea_98f0_a8667f01c8darow1_col6\" class=\"data row1 col6\" >19758</td>\n                        <td id=\"T_c1d8ed46_7660_11ea_98f0_a8667f01c8darow1_col7\" class=\"data row1 col7\" >85388</td>\n            </tr>\n            <tr>\n                        <th id=\"T_c1d8ed46_7660_11ea_98f0_a8667f01c8dalevel0_row2\" class=\"row_heading level0 row2\" >158</th>\n                        <td id=\"T_c1d8ed46_7660_11ea_98f0_a8667f01c8darow2_col0\" class=\"data row2 col0\" >Spain</td>\n                        <td id=\"T_c1d8ed46_7660_11ea_98f0_a8667f01c8darow2_col1\" class=\"data row2 col1\" >2020-04-04 09:36:02</td>\n                        <td id=\"T_c1d8ed46_7660_11ea_98f0_a8667f01c8darow2_col2\" class=\"data row2 col2\" >40.4637</td>\n                        <td id=\"T_c1d8ed46_7660_11ea_98f0_a8667f01c8darow2_col3\" class=\"data row2 col3\" >-3.74922</td>\n                        <td id=\"T_c1d8ed46_7660_11ea_98f0_a8667f01c8darow2_col4\" class=\"data row2 col4\" >119199</td>\n                        <td id=\"T_c1d8ed46_7660_11ea_98f0_a8667f01c8darow2_col5\" class=\"data row2 col5\" >11198</td>\n                        <td id=\"T_c1d8ed46_7660_11ea_98f0_a8667f01c8darow2_col6\" class=\"data row2 col6\" >30513</td>\n                        <td id=\"T_c1d8ed46_7660_11ea_98f0_a8667f01c8darow2_col7\" class=\"data row2 col7\" >77488</td>\n            </tr>\n            <tr>\n                        <th id=\"T_c1d8ed46_7660_11ea_98f0_a8667f01c8dalevel0_row3\" class=\"row_heading level0 row3\" >7</th>\n                        <td id=\"T_c1d8ed46_7660_11ea_98f0_a8667f01c8darow3_col0\" class=\"data row3 col0\" >Germany</td>\n                        <td id=\"T_c1d8ed46_7660_11ea_98f0_a8667f01c8darow3_col1\" class=\"data row3 col1\" >2020-04-04 09:36:02</td>\n                        <td id=\"T_c1d8ed46_7660_11ea_98f0_a8667f01c8darow3_col2\" class=\"data row3 col2\" >51.1657</td>\n                        <td id=\"T_c1d8ed46_7660_11ea_98f0_a8667f01c8darow3_col3\" class=\"data row3 col3\" >10.4515</td>\n                        <td id=\"T_c1d8ed46_7660_11ea_98f0_a8667f01c8darow3_col4\" class=\"data row3 col4\" >91159</td>\n                        <td id=\"T_c1d8ed46_7660_11ea_98f0_a8667f01c8darow3_col5\" class=\"data row3 col5\" >1275</td>\n                        <td id=\"T_c1d8ed46_7660_11ea_98f0_a8667f01c8darow3_col6\" class=\"data row3 col6\" >24575</td>\n                        <td id=\"T_c1d8ed46_7660_11ea_98f0_a8667f01c8darow3_col7\" class=\"data row3 col7\" >65309</td>\n            </tr>\n            <tr>\n                        <th id=\"T_c1d8ed46_7660_11ea_98f0_a8667f01c8dalevel0_row4\" class=\"row_heading level0 row4\" >6</th>\n                        <td id=\"T_c1d8ed46_7660_11ea_98f0_a8667f01c8darow4_col0\" class=\"data row4 col0\" >France</td>\n                        <td id=\"T_c1d8ed46_7660_11ea_98f0_a8667f01c8darow4_col1\" class=\"data row4 col1\" >2020-04-04 09:36:02</td>\n                        <td id=\"T_c1d8ed46_7660_11ea_98f0_a8667f01c8darow4_col2\" class=\"data row4 col2\" >46.2276</td>\n                        <td id=\"T_c1d8ed46_7660_11ea_98f0_a8667f01c8darow4_col3\" class=\"data row4 col3\" >2.2137</td>\n                        <td id=\"T_c1d8ed46_7660_11ea_98f0_a8667f01c8darow4_col4\" class=\"data row4 col4\" >83029</td>\n                        <td id=\"T_c1d8ed46_7660_11ea_98f0_a8667f01c8darow4_col5\" class=\"data row4 col5\" >6520</td>\n                        <td id=\"T_c1d8ed46_7660_11ea_98f0_a8667f01c8darow4_col6\" class=\"data row4 col6\" >14135</td>\n                        <td id=\"T_c1d8ed46_7660_11ea_98f0_a8667f01c8darow4_col7\" class=\"data row4 col7\" >62374</td>\n            </tr>\n            <tr>\n                        <th id=\"T_c1d8ed46_7660_11ea_98f0_a8667f01c8dalevel0_row5\" class=\"row_heading level0 row5\" >3</th>\n                        <td id=\"T_c1d8ed46_7660_11ea_98f0_a8667f01c8darow5_col0\" class=\"data row5 col0\" >China</td>\n                        <td id=\"T_c1d8ed46_7660_11ea_98f0_a8667f01c8darow5_col1\" class=\"data row5 col1\" >2020-04-04 08:37:37</td>\n                        <td id=\"T_c1d8ed46_7660_11ea_98f0_a8667f01c8darow5_col2\" class=\"data row5 col2\" >30.5928</td>\n                        <td id=\"T_c1d8ed46_7660_11ea_98f0_a8667f01c8darow5_col3\" class=\"data row5 col3\" >114.305</td>\n                        <td id=\"T_c1d8ed46_7660_11ea_98f0_a8667f01c8darow5_col4\" class=\"data row5 col4\" >82526</td>\n                        <td id=\"T_c1d8ed46_7660_11ea_98f0_a8667f01c8darow5_col5\" class=\"data row5 col5\" >3330</td>\n                        <td id=\"T_c1d8ed46_7660_11ea_98f0_a8667f01c8darow5_col6\" class=\"data row5 col6\" >76942</td>\n                        <td id=\"T_c1d8ed46_7660_11ea_98f0_a8667f01c8darow5_col7\" class=\"data row5 col7\" >2254</td>\n            </tr>\n            <tr>\n                        <th id=\"T_c1d8ed46_7660_11ea_98f0_a8667f01c8dalevel0_row6\" class=\"row_heading level0 row6\" >89</th>\n                        <td id=\"T_c1d8ed46_7660_11ea_98f0_a8667f01c8darow6_col0\" class=\"data row6 col0\" >Iran</td>\n                        <td id=\"T_c1d8ed46_7660_11ea_98f0_a8667f01c8darow6_col1\" class=\"data row6 col1\" >2020-04-04 09:36:02</td>\n                        <td id=\"T_c1d8ed46_7660_11ea_98f0_a8667f01c8darow6_col2\" class=\"data row6 col2\" >32.4279</td>\n                        <td id=\"T_c1d8ed46_7660_11ea_98f0_a8667f01c8darow6_col3\" class=\"data row6 col3\" >53.688</td>\n                        <td id=\"T_c1d8ed46_7660_11ea_98f0_a8667f01c8darow6_col4\" class=\"data row6 col4\" >53183</td>\n                        <td id=\"T_c1d8ed46_7660_11ea_98f0_a8667f01c8darow6_col5\" class=\"data row6 col5\" >3294</td>\n                        <td id=\"T_c1d8ed46_7660_11ea_98f0_a8667f01c8darow6_col6\" class=\"data row6 col6\" >17935</td>\n                        <td id=\"T_c1d8ed46_7660_11ea_98f0_a8667f01c8darow6_col7\" class=\"data row6 col7\" >31954</td>\n            </tr>\n            <tr>\n                        <th id=\"T_c1d8ed46_7660_11ea_98f0_a8667f01c8dalevel0_row7\" class=\"row_heading level0 row7\" >16</th>\n                        <td id=\"T_c1d8ed46_7660_11ea_98f0_a8667f01c8darow7_col0\" class=\"data row7 col0\" >United Kingdom</td>\n                        <td id=\"T_c1d8ed46_7660_11ea_98f0_a8667f01c8darow7_col1\" class=\"data row7 col1\" >2020-04-04 09:36:02</td>\n                        <td id=\"T_c1d8ed46_7660_11ea_98f0_a8667f01c8darow7_col2\" class=\"data row7 col2\" >55</td>\n                        <td id=\"T_c1d8ed46_7660_11ea_98f0_a8667f01c8darow7_col3\" class=\"data row7 col3\" >-3</td>\n                        <td id=\"T_c1d8ed46_7660_11ea_98f0_a8667f01c8darow7_col4\" class=\"data row7 col4\" >38697</td>\n                        <td id=\"T_c1d8ed46_7660_11ea_98f0_a8667f01c8darow7_col5\" class=\"data row7 col5\" >3611</td>\n                        <td id=\"T_c1d8ed46_7660_11ea_98f0_a8667f01c8darow7_col6\" class=\"data row7 col6\" >209</td>\n                        <td id=\"T_c1d8ed46_7660_11ea_98f0_a8667f01c8darow7_col7\" class=\"data row7 col7\" >34877</td>\n            </tr>\n            <tr>\n                        <th id=\"T_c1d8ed46_7660_11ea_98f0_a8667f01c8dalevel0_row8\" class=\"row_heading level0 row8\" >170</th>\n                        <td id=\"T_c1d8ed46_7660_11ea_98f0_a8667f01c8darow8_col0\" class=\"data row8 col0\" >Turkey</td>\n                        <td id=\"T_c1d8ed46_7660_11ea_98f0_a8667f01c8darow8_col1\" class=\"data row8 col1\" >2020-04-04 09:36:02</td>\n                        <td id=\"T_c1d8ed46_7660_11ea_98f0_a8667f01c8darow8_col2\" class=\"data row8 col2\" >38.9637</td>\n                        <td id=\"T_c1d8ed46_7660_11ea_98f0_a8667f01c8darow8_col3\" class=\"data row8 col3\" >35.2433</td>\n                        <td id=\"T_c1d8ed46_7660_11ea_98f0_a8667f01c8darow8_col4\" class=\"data row8 col4\" >20921</td>\n                        <td id=\"T_c1d8ed46_7660_11ea_98f0_a8667f01c8darow8_col5\" class=\"data row8 col5\" >425</td>\n                        <td id=\"T_c1d8ed46_7660_11ea_98f0_a8667f01c8darow8_col6\" class=\"data row8 col6\" >484</td>\n                        <td id=\"T_c1d8ed46_7660_11ea_98f0_a8667f01c8darow8_col7\" class=\"data row8 col7\" >20012</td>\n            </tr>\n            <tr>\n                        <th id=\"T_c1d8ed46_7660_11ea_98f0_a8667f01c8dalevel0_row9\" class=\"row_heading level0 row9\" >15</th>\n                        <td id=\"T_c1d8ed46_7660_11ea_98f0_a8667f01c8darow9_col0\" class=\"data row9 col0\" >Switzerland</td>\n                        <td id=\"T_c1d8ed46_7660_11ea_98f0_a8667f01c8darow9_col1\" class=\"data row9 col1\" >2020-04-04 09:36:02</td>\n                        <td id=\"T_c1d8ed46_7660_11ea_98f0_a8667f01c8darow9_col2\" class=\"data row9 col2\" >46.8182</td>\n                        <td id=\"T_c1d8ed46_7660_11ea_98f0_a8667f01c8darow9_col3\" class=\"data row9 col3\" >8.2275</td>\n                        <td id=\"T_c1d8ed46_7660_11ea_98f0_a8667f01c8darow9_col4\" class=\"data row9 col4\" >19702</td>\n                        <td id=\"T_c1d8ed46_7660_11ea_98f0_a8667f01c8darow9_col5\" class=\"data row9 col5\" >604</td>\n                        <td id=\"T_c1d8ed46_7660_11ea_98f0_a8667f01c8darow9_col6\" class=\"data row9 col6\" >4846</td>\n                        <td id=\"T_c1d8ed46_7660_11ea_98f0_a8667f01c8darow9_col7\" class=\"data row9 col7\" >14252</td>\n            </tr>\n    </tbody></table>"
     },
     "metadata": {}
    },
    {
     "output_type": "execute_result",
     "data": {
      "text/plain": "<function __main__.show_latest_cases(n)>"
     },
     "metadata": {},
     "execution_count": 7
    }
   ],
   "source": [
    "sorted_country = country.sort_values('confirmed', ascending= False)\n",
    "\n",
    "def highlight_col(x):\n",
    "    b = 'background-color: blue'\n",
    "    d = 'background-color: darkblue'\n",
    "    g = 'background-color: green'\n",
    "    df1 = pd.DataFrame('', index=x.index, columns=x.columns)\n",
    "    df1.iloc[:, 4] = d\n",
    "    df1.iloc[:, 5] = b\n",
    "    df1.iloc[:, 6] = g\n",
    "    return df1\n",
    "\n",
    "def show_latest_cases(n):\n",
    "    n = int(n)\n",
    "    return country.sort_values('confirmed', ascending= False).head(n).style.apply(highlight_col, axis=None)\n",
    "\n",
    "widgets.interact(show_latest_cases, n='10')"
   ]
  },
  {
   "cell_type": "code",
   "execution_count": 13,
   "metadata": {},
   "outputs": [
    {
     "output_type": "display_data",
     "data": {
      "application/vnd.plotly.v1+json": {
       "config": {
        "plotlyServerURL": "https://plot.ly"
       },
       "data": [
        {
         "alignmentgroup": "True",
         "hovertemplate": "country=%{x}<br>deaths=%{y}<extra></extra>",
         "legendgroup": "",
         "marker": {
          "color": "blue"
         },
         "name": "",
         "offsetgroup": "",
         "orientation": "v",
         "showlegend": false,
         "textposition": "auto",
         "type": "bar",
         "x": [
          "US",
          "Italy",
          "Spain",
          "Germany",
          "France",
          "China",
          "Iran",
          "United Kingdom",
          "Turkey",
          "Switzerland",
          "Belgium",
          "Netherlands",
          "Canada",
          "Austria",
          "Korea, South"
         ],
         "xaxis": "x",
         "y": [
          7159,
          14681,
          11198,
          1275,
          6520,
          3330,
          3294,
          3611,
          425,
          604,
          1283,
          1492,
          188,
          168,
          177
         ],
         "yaxis": "y"
        }
       ],
       "layout": {
        "barmode": "relative",
        "height": 500,
        "legend": {
         "tracegroupgap": 0
        },
        "template": {
         "data": {
          "bar": [
           {
            "error_x": {
             "color": "#2a3f5f"
            },
            "error_y": {
             "color": "#2a3f5f"
            },
            "marker": {
             "line": {
              "color": "#E5ECF6",
              "width": 0.5
             }
            },
            "type": "bar"
           }
          ],
          "barpolar": [
           {
            "marker": {
             "line": {
              "color": "#E5ECF6",
              "width": 0.5
             }
            },
            "type": "barpolar"
           }
          ],
          "carpet": [
           {
            "aaxis": {
             "endlinecolor": "#2a3f5f",
             "gridcolor": "white",
             "linecolor": "white",
             "minorgridcolor": "white",
             "startlinecolor": "#2a3f5f"
            },
            "baxis": {
             "endlinecolor": "#2a3f5f",
             "gridcolor": "white",
             "linecolor": "white",
             "minorgridcolor": "white",
             "startlinecolor": "#2a3f5f"
            },
            "type": "carpet"
           }
          ],
          "choropleth": [
           {
            "colorbar": {
             "outlinewidth": 0,
             "ticks": ""
            },
            "type": "choropleth"
           }
          ],
          "contour": [
           {
            "colorbar": {
             "outlinewidth": 0,
             "ticks": ""
            },
            "colorscale": [
             [
              0,
              "#0d0887"
             ],
             [
              0.1111111111111111,
              "#46039f"
             ],
             [
              0.2222222222222222,
              "#7201a8"
             ],
             [
              0.3333333333333333,
              "#9c179e"
             ],
             [
              0.4444444444444444,
              "#bd3786"
             ],
             [
              0.5555555555555556,
              "#d8576b"
             ],
             [
              0.6666666666666666,
              "#ed7953"
             ],
             [
              0.7777777777777778,
              "#fb9f3a"
             ],
             [
              0.8888888888888888,
              "#fdca26"
             ],
             [
              1,
              "#f0f921"
             ]
            ],
            "type": "contour"
           }
          ],
          "contourcarpet": [
           {
            "colorbar": {
             "outlinewidth": 0,
             "ticks": ""
            },
            "type": "contourcarpet"
           }
          ],
          "heatmap": [
           {
            "colorbar": {
             "outlinewidth": 0,
             "ticks": ""
            },
            "colorscale": [
             [
              0,
              "#0d0887"
             ],
             [
              0.1111111111111111,
              "#46039f"
             ],
             [
              0.2222222222222222,
              "#7201a8"
             ],
             [
              0.3333333333333333,
              "#9c179e"
             ],
             [
              0.4444444444444444,
              "#bd3786"
             ],
             [
              0.5555555555555556,
              "#d8576b"
             ],
             [
              0.6666666666666666,
              "#ed7953"
             ],
             [
              0.7777777777777778,
              "#fb9f3a"
             ],
             [
              0.8888888888888888,
              "#fdca26"
             ],
             [
              1,
              "#f0f921"
             ]
            ],
            "type": "heatmap"
           }
          ],
          "heatmapgl": [
           {
            "colorbar": {
             "outlinewidth": 0,
             "ticks": ""
            },
            "colorscale": [
             [
              0,
              "#0d0887"
             ],
             [
              0.1111111111111111,
              "#46039f"
             ],
             [
              0.2222222222222222,
              "#7201a8"
             ],
             [
              0.3333333333333333,
              "#9c179e"
             ],
             [
              0.4444444444444444,
              "#bd3786"
             ],
             [
              0.5555555555555556,
              "#d8576b"
             ],
             [
              0.6666666666666666,
              "#ed7953"
             ],
             [
              0.7777777777777778,
              "#fb9f3a"
             ],
             [
              0.8888888888888888,
              "#fdca26"
             ],
             [
              1,
              "#f0f921"
             ]
            ],
            "type": "heatmapgl"
           }
          ],
          "histogram": [
           {
            "marker": {
             "colorbar": {
              "outlinewidth": 0,
              "ticks": ""
             }
            },
            "type": "histogram"
           }
          ],
          "histogram2d": [
           {
            "colorbar": {
             "outlinewidth": 0,
             "ticks": ""
            },
            "colorscale": [
             [
              0,
              "#0d0887"
             ],
             [
              0.1111111111111111,
              "#46039f"
             ],
             [
              0.2222222222222222,
              "#7201a8"
             ],
             [
              0.3333333333333333,
              "#9c179e"
             ],
             [
              0.4444444444444444,
              "#bd3786"
             ],
             [
              0.5555555555555556,
              "#d8576b"
             ],
             [
              0.6666666666666666,
              "#ed7953"
             ],
             [
              0.7777777777777778,
              "#fb9f3a"
             ],
             [
              0.8888888888888888,
              "#fdca26"
             ],
             [
              1,
              "#f0f921"
             ]
            ],
            "type": "histogram2d"
           }
          ],
          "histogram2dcontour": [
           {
            "colorbar": {
             "outlinewidth": 0,
             "ticks": ""
            },
            "colorscale": [
             [
              0,
              "#0d0887"
             ],
             [
              0.1111111111111111,
              "#46039f"
             ],
             [
              0.2222222222222222,
              "#7201a8"
             ],
             [
              0.3333333333333333,
              "#9c179e"
             ],
             [
              0.4444444444444444,
              "#bd3786"
             ],
             [
              0.5555555555555556,
              "#d8576b"
             ],
             [
              0.6666666666666666,
              "#ed7953"
             ],
             [
              0.7777777777777778,
              "#fb9f3a"
             ],
             [
              0.8888888888888888,
              "#fdca26"
             ],
             [
              1,
              "#f0f921"
             ]
            ],
            "type": "histogram2dcontour"
           }
          ],
          "mesh3d": [
           {
            "colorbar": {
             "outlinewidth": 0,
             "ticks": ""
            },
            "type": "mesh3d"
           }
          ],
          "parcoords": [
           {
            "line": {
             "colorbar": {
              "outlinewidth": 0,
              "ticks": ""
             }
            },
            "type": "parcoords"
           }
          ],
          "pie": [
           {
            "automargin": true,
            "type": "pie"
           }
          ],
          "scatter": [
           {
            "marker": {
             "colorbar": {
              "outlinewidth": 0,
              "ticks": ""
             }
            },
            "type": "scatter"
           }
          ],
          "scatter3d": [
           {
            "line": {
             "colorbar": {
              "outlinewidth": 0,
              "ticks": ""
             }
            },
            "marker": {
             "colorbar": {
              "outlinewidth": 0,
              "ticks": ""
             }
            },
            "type": "scatter3d"
           }
          ],
          "scattercarpet": [
           {
            "marker": {
             "colorbar": {
              "outlinewidth": 0,
              "ticks": ""
             }
            },
            "type": "scattercarpet"
           }
          ],
          "scattergeo": [
           {
            "marker": {
             "colorbar": {
              "outlinewidth": 0,
              "ticks": ""
             }
            },
            "type": "scattergeo"
           }
          ],
          "scattergl": [
           {
            "marker": {
             "colorbar": {
              "outlinewidth": 0,
              "ticks": ""
             }
            },
            "type": "scattergl"
           }
          ],
          "scattermapbox": [
           {
            "marker": {
             "colorbar": {
              "outlinewidth": 0,
              "ticks": ""
             }
            },
            "type": "scattermapbox"
           }
          ],
          "scatterpolar": [
           {
            "marker": {
             "colorbar": {
              "outlinewidth": 0,
              "ticks": ""
             }
            },
            "type": "scatterpolar"
           }
          ],
          "scatterpolargl": [
           {
            "marker": {
             "colorbar": {
              "outlinewidth": 0,
              "ticks": ""
             }
            },
            "type": "scatterpolargl"
           }
          ],
          "scatterternary": [
           {
            "marker": {
             "colorbar": {
              "outlinewidth": 0,
              "ticks": ""
             }
            },
            "type": "scatterternary"
           }
          ],
          "surface": [
           {
            "colorbar": {
             "outlinewidth": 0,
             "ticks": ""
            },
            "colorscale": [
             [
              0,
              "#0d0887"
             ],
             [
              0.1111111111111111,
              "#46039f"
             ],
             [
              0.2222222222222222,
              "#7201a8"
             ],
             [
              0.3333333333333333,
              "#9c179e"
             ],
             [
              0.4444444444444444,
              "#bd3786"
             ],
             [
              0.5555555555555556,
              "#d8576b"
             ],
             [
              0.6666666666666666,
              "#ed7953"
             ],
             [
              0.7777777777777778,
              "#fb9f3a"
             ],
             [
              0.8888888888888888,
              "#fdca26"
             ],
             [
              1,
              "#f0f921"
             ]
            ],
            "type": "surface"
           }
          ],
          "table": [
           {
            "cells": {
             "fill": {
              "color": "#EBF0F8"
             },
             "line": {
              "color": "white"
             }
            },
            "header": {
             "fill": {
              "color": "#C8D4E3"
             },
             "line": {
              "color": "white"
             }
            },
            "type": "table"
           }
          ]
         },
         "layout": {
          "annotationdefaults": {
           "arrowcolor": "#2a3f5f",
           "arrowhead": 0,
           "arrowwidth": 1
          },
          "coloraxis": {
           "colorbar": {
            "outlinewidth": 0,
            "ticks": ""
           }
          },
          "colorscale": {
           "diverging": [
            [
             0,
             "#8e0152"
            ],
            [
             0.1,
             "#c51b7d"
            ],
            [
             0.2,
             "#de77ae"
            ],
            [
             0.3,
             "#f1b6da"
            ],
            [
             0.4,
             "#fde0ef"
            ],
            [
             0.5,
             "#f7f7f7"
            ],
            [
             0.6,
             "#e6f5d0"
            ],
            [
             0.7,
             "#b8e186"
            ],
            [
             0.8,
             "#7fbc41"
            ],
            [
             0.9,
             "#4d9221"
            ],
            [
             1,
             "#276419"
            ]
           ],
           "sequential": [
            [
             0,
             "#0d0887"
            ],
            [
             0.1111111111111111,
             "#46039f"
            ],
            [
             0.2222222222222222,
             "#7201a8"
            ],
            [
             0.3333333333333333,
             "#9c179e"
            ],
            [
             0.4444444444444444,
             "#bd3786"
            ],
            [
             0.5555555555555556,
             "#d8576b"
            ],
            [
             0.6666666666666666,
             "#ed7953"
            ],
            [
             0.7777777777777778,
             "#fb9f3a"
            ],
            [
             0.8888888888888888,
             "#fdca26"
            ],
            [
             1,
             "#f0f921"
            ]
           ],
           "sequentialminus": [
            [
             0,
             "#0d0887"
            ],
            [
             0.1111111111111111,
             "#46039f"
            ],
            [
             0.2222222222222222,
             "#7201a8"
            ],
            [
             0.3333333333333333,
             "#9c179e"
            ],
            [
             0.4444444444444444,
             "#bd3786"
            ],
            [
             0.5555555555555556,
             "#d8576b"
            ],
            [
             0.6666666666666666,
             "#ed7953"
            ],
            [
             0.7777777777777778,
             "#fb9f3a"
            ],
            [
             0.8888888888888888,
             "#fdca26"
            ],
            [
             1,
             "#f0f921"
            ]
           ]
          },
          "colorway": [
           "#636efa",
           "#EF553B",
           "#00cc96",
           "#ab63fa",
           "#FFA15A",
           "#19d3f3",
           "#FF6692",
           "#B6E880",
           "#FF97FF",
           "#FECB52"
          ],
          "font": {
           "color": "#2a3f5f"
          },
          "geo": {
           "bgcolor": "white",
           "lakecolor": "white",
           "landcolor": "#E5ECF6",
           "showlakes": true,
           "showland": true,
           "subunitcolor": "white"
          },
          "hoverlabel": {
           "align": "left"
          },
          "hovermode": "closest",
          "mapbox": {
           "style": "light"
          },
          "paper_bgcolor": "white",
          "plot_bgcolor": "#E5ECF6",
          "polar": {
           "angularaxis": {
            "gridcolor": "white",
            "linecolor": "white",
            "ticks": ""
           },
           "bgcolor": "#E5ECF6",
           "radialaxis": {
            "gridcolor": "white",
            "linecolor": "white",
            "ticks": ""
           }
          },
          "scene": {
           "xaxis": {
            "backgroundcolor": "#E5ECF6",
            "gridcolor": "white",
            "gridwidth": 2,
            "linecolor": "white",
            "showbackground": true,
            "ticks": "",
            "zerolinecolor": "white"
           },
           "yaxis": {
            "backgroundcolor": "#E5ECF6",
            "gridcolor": "white",
            "gridwidth": 2,
            "linecolor": "white",
            "showbackground": true,
            "ticks": "",
            "zerolinecolor": "white"
           },
           "zaxis": {
            "backgroundcolor": "#E5ECF6",
            "gridcolor": "white",
            "gridwidth": 2,
            "linecolor": "white",
            "showbackground": true,
            "ticks": "",
            "zerolinecolor": "white"
           }
          },
          "shapedefaults": {
           "line": {
            "color": "#2a3f5f"
           }
          },
          "ternary": {
           "aaxis": {
            "gridcolor": "white",
            "linecolor": "white",
            "ticks": ""
           },
           "baxis": {
            "gridcolor": "white",
            "linecolor": "white",
            "ticks": ""
           },
           "bgcolor": "#E5ECF6",
           "caxis": {
            "gridcolor": "white",
            "linecolor": "white",
            "ticks": ""
           }
          },
          "title": {
           "x": 0.05
          },
          "xaxis": {
           "automargin": true,
           "gridcolor": "white",
           "linecolor": "white",
           "ticks": "",
           "title": {
            "standoff": 15
           },
           "zerolinecolor": "white",
           "zerolinewidth": 2
          },
          "yaxis": {
           "automargin": true,
           "gridcolor": "white",
           "linecolor": "white",
           "ticks": "",
           "title": {
            "standoff": 15
           },
           "zerolinecolor": "white",
           "zerolinewidth": 2
          }
         }
        },
        "title": {
         "text": "10 Countries most affected by Covid-19"
        },
        "width": 800,
        "xaxis": {
         "anchor": "y",
         "domain": [
          0,
          1
         ],
         "title": {
          "text": "country"
         }
        },
        "yaxis": {
         "anchor": "x",
         "domain": [
          0,
          1
         ],
         "title": {
          "text": "deaths"
         }
        }
       }
      }
     },
     "metadata": {}
    }
   ],
   "source": [
    "px.bar(\n",
    "    sorted_country.head(15),\n",
    "    x = \"country\",\n",
    "    y = \"deaths\",\n",
    "    title= \"10 Countries most affected by Covid-19\", # the axis names\n",
    "    color_discrete_sequence=[\"blue\"], \n",
    "    height=500,\n",
    "    width=800\n",
    ")"
   ]
  }
 ],
 "metadata": {
  "kernelspec": {
   "display_name": "Python 3",
   "language": "python",
   "name": "python3"
  },
  "language_info": {
   "codemirror_mode": {
    "name": "ipython",
    "version": 3
   },
   "file_extension": ".py",
   "mimetype": "text/x-python",
   "name": "python",
   "nbconvert_exporter": "python",
   "pygments_lexer": "ipython3",
   "version": "3.7.4-final"
  },
  "toc-autonumbering": true
 },
 "nbformat": 4,
 "nbformat_minor": 4
}