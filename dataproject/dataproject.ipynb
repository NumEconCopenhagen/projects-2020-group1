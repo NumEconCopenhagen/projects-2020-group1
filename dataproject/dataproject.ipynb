{
 "cells": [
  {
   "cell_type": "markdown",
   "metadata": {},
   "source": [
    "# Group 1 - Data Project - Covid-19  "
   ]
  },
  {
   "cell_type": "markdown",
   "metadata": {},
   "source": [
    "**Imports and set magics:**"
   ]
  },
  {
   "cell_type": "code",
   "execution_count": 3,
   "metadata": {},
   "outputs": [],
   "source": [
    "import pandas as pd\n",
    "import matplotlib.pyplot as plt\n",
    "import ipywidgets as widgets\n",
    "import folium\n",
    "import requests\n",
    "import numpy as np \n",
    "import ipywidgets as widgets\n",
    "from matplotlib_venn import venn2 # install with pip install matplotlib-venn\n",
    "from ipywidgets import interact, interactive, fixed, interact_manual\n",
    "from datetime import datetime\n",
    "from plotly.subplots import make_subplots  # install with pip install plotly==4.6.0\n",
    "import plotly.graph_objects as go\n",
    "import plotly.express as px \n",
    "\n",
    "\n",
    "# autoreload modules when code is run\n",
    "%load_ext autoreload\n",
    "%autoreload 2\n",
    "\n",
    "# local modules\n",
    "import dataproject"
   ]
  },
  {
   "cell_type": "markdown",
   "metadata": {
    "toc-hr-collapsed": true
   },
   "source": [
    "# Read and clean data"
   ]
  },
  {
   "cell_type": "markdown",
   "metadata": {},
   "source": [
    "### Covid-19 data retrieved from The Humanitarian Data Exchange collected by the John Hopkin's Hospital. We are using data on confirmed covid-19 cases, deaths due to covid-19, recovered patients of covid-19 and data on each individual country. ###"
   ]
  },
  {
   "cell_type": "markdown",
   "metadata": {},
   "source": [
    "**Loading the CSSEGIS data** on covid-19 retrieved from the official data repository for the 2019 Novel Coronavirus Visual Dashboard operated by the Johns Hopkins University Center for Systems Science and Engineering (JHU CSSE). Also, Supported by ESRI Living Atlas Team and the Johns Hopkins University Applied Physics Lab (JHU APL). The data is avialable at: https://github.com/CSSEGISandData/COVID-19 (also available at the official webpage: https://data.humdata.org/dataset/novel-coronavirus-2019-ncov-cases). \n",
    "\n",
    "The data is **cleaned**, variables are removed and columns renamed:\n"
   ]
  },
  {
   "cell_type": "code",
   "execution_count": 4,
   "metadata": {},
   "outputs": [],
   "source": [
    "# a. Loading data\n",
    "death = pd.read_csv('https://raw.githubusercontent.com/CSSEGISandData/COVID-19/master/csse_covid_19_data/csse_covid_19_time_series/time_series_covid19_deaths_global.csv')\n",
    "confirmed = pd.read_csv('https://raw.githubusercontent.com/CSSEGISandData/COVID-19/master/csse_covid_19_data/csse_covid_19_time_series/time_series_covid19_confirmed_global.csv')\n",
    "recovered = pd.read_csv('https://raw.githubusercontent.com/CSSEGISandData/COVID-19/master/csse_covid_19_data/csse_covid_19_time_series/time_series_covid19_recovered_global.csv')\n",
    "country = pd.read_csv('https://raw.githubusercontent.com/CSSEGISandData/COVID-19/web-data/data/cases_country.csv')\n",
    "\n",
    "\n",
    "# c. Renaming country/region to country\n",
    "confirmed = confirmed.rename(columns={'Country/Region': 'Country'})\n",
    "recovered = recovered.rename(columns={'Country/Region': 'Country'})\n",
    "death = death.rename(columns={'Country/Region': 'Country'})\n",
    "country = country.rename(columns={'Country_Region': 'Country'})\n",
    "\n",
    "# d. Droping columns\n",
    "drop_these = ['Province/State', 'Lat', 'Long']\n",
    "confirmed.drop(drop_these, axis=1, inplace=True)\n",
    "recovered.drop(drop_these, axis=1, inplace=True)\n",
    "death.drop(drop_these, axis=1, inplace=True)"
   ]
  },
  {
   "cell_type": "markdown",
   "metadata": {},
   "source": [
    "The data is updated daily and will upon running be updated with the most recent numbers. "
   ]
  },
  {
   "cell_type": "markdown",
   "metadata": {},
   "source": [
    "# Visualising the worst-hit countries in terms of number of infected individuals"
   ]
  },
  {
   "cell_type": "markdown",
   "metadata": {},
   "source": [
    "** Initially, we want to create a table displaying the countries who have the highest number of confirmed infected individuals.**"
   ]
  },
  {
   "cell_type": "code",
   "execution_count": 5,
   "metadata": {},
   "outputs": [
    {
     "output_type": "display_data",
     "data": {
      "text/plain": "<pandas.io.formats.style.Styler at 0x1065d4090>",
      "text/html": "<style  type=\"text/css\" >\n    #T_7449a974_7810_11ea_b7dd_a8667f01c8darow0_col4 {\n            background-color:  darkblue;\n        }    #T_7449a974_7810_11ea_b7dd_a8667f01c8darow0_col5 {\n            background-color:  blue;\n        }    #T_7449a974_7810_11ea_b7dd_a8667f01c8darow0_col6 {\n            background-color:  green;\n        }    #T_7449a974_7810_11ea_b7dd_a8667f01c8darow1_col4 {\n            background-color:  darkblue;\n        }    #T_7449a974_7810_11ea_b7dd_a8667f01c8darow1_col5 {\n            background-color:  blue;\n        }    #T_7449a974_7810_11ea_b7dd_a8667f01c8darow1_col6 {\n            background-color:  green;\n        }    #T_7449a974_7810_11ea_b7dd_a8667f01c8darow2_col4 {\n            background-color:  darkblue;\n        }    #T_7449a974_7810_11ea_b7dd_a8667f01c8darow2_col5 {\n            background-color:  blue;\n        }    #T_7449a974_7810_11ea_b7dd_a8667f01c8darow2_col6 {\n            background-color:  green;\n        }    #T_7449a974_7810_11ea_b7dd_a8667f01c8darow3_col4 {\n            background-color:  darkblue;\n        }    #T_7449a974_7810_11ea_b7dd_a8667f01c8darow3_col5 {\n            background-color:  blue;\n        }    #T_7449a974_7810_11ea_b7dd_a8667f01c8darow3_col6 {\n            background-color:  green;\n        }    #T_7449a974_7810_11ea_b7dd_a8667f01c8darow4_col4 {\n            background-color:  darkblue;\n        }    #T_7449a974_7810_11ea_b7dd_a8667f01c8darow4_col5 {\n            background-color:  blue;\n        }    #T_7449a974_7810_11ea_b7dd_a8667f01c8darow4_col6 {\n            background-color:  green;\n        }    #T_7449a974_7810_11ea_b7dd_a8667f01c8darow5_col4 {\n            background-color:  darkblue;\n        }    #T_7449a974_7810_11ea_b7dd_a8667f01c8darow5_col5 {\n            background-color:  blue;\n        }    #T_7449a974_7810_11ea_b7dd_a8667f01c8darow5_col6 {\n            background-color:  green;\n        }    #T_7449a974_7810_11ea_b7dd_a8667f01c8darow6_col4 {\n            background-color:  darkblue;\n        }    #T_7449a974_7810_11ea_b7dd_a8667f01c8darow6_col5 {\n            background-color:  blue;\n        }    #T_7449a974_7810_11ea_b7dd_a8667f01c8darow6_col6 {\n            background-color:  green;\n        }    #T_7449a974_7810_11ea_b7dd_a8667f01c8darow7_col4 {\n            background-color:  darkblue;\n        }    #T_7449a974_7810_11ea_b7dd_a8667f01c8darow7_col5 {\n            background-color:  blue;\n        }    #T_7449a974_7810_11ea_b7dd_a8667f01c8darow7_col6 {\n            background-color:  green;\n        }    #T_7449a974_7810_11ea_b7dd_a8667f01c8darow8_col4 {\n            background-color:  darkblue;\n        }    #T_7449a974_7810_11ea_b7dd_a8667f01c8darow8_col5 {\n            background-color:  blue;\n        }    #T_7449a974_7810_11ea_b7dd_a8667f01c8darow8_col6 {\n            background-color:  green;\n        }    #T_7449a974_7810_11ea_b7dd_a8667f01c8darow9_col4 {\n            background-color:  darkblue;\n        }    #T_7449a974_7810_11ea_b7dd_a8667f01c8darow9_col5 {\n            background-color:  blue;\n        }    #T_7449a974_7810_11ea_b7dd_a8667f01c8darow9_col6 {\n            background-color:  green;\n        }</style><table id=\"T_7449a974_7810_11ea_b7dd_a8667f01c8da\" ><thead>    <tr>        <th class=\"blank level0\" ></th>        <th class=\"col_heading level0 col0\" >Country</th>        <th class=\"col_heading level0 col1\" >Last_Update</th>        <th class=\"col_heading level0 col2\" >Lat</th>        <th class=\"col_heading level0 col3\" >Long_</th>        <th class=\"col_heading level0 col4\" >Confirmed</th>        <th class=\"col_heading level0 col5\" >Deaths</th>        <th class=\"col_heading level0 col6\" >Recovered</th>        <th class=\"col_heading level0 col7\" >Active</th>    </tr></thead><tbody>\n                <tr>\n                        <th id=\"T_7449a974_7810_11ea_b7dd_a8667f01c8dalevel0_row0\" class=\"row_heading level0 row0\" >17</th>\n                        <td id=\"T_7449a974_7810_11ea_b7dd_a8667f01c8darow0_col0\" class=\"data row0 col0\" >US</td>\n                        <td id=\"T_7449a974_7810_11ea_b7dd_a8667f01c8darow0_col1\" class=\"data row0 col1\" >2020-04-06 13:15:41</td>\n                        <td id=\"T_7449a974_7810_11ea_b7dd_a8667f01c8darow0_col2\" class=\"data row0 col2\" >40</td>\n                        <td id=\"T_7449a974_7810_11ea_b7dd_a8667f01c8darow0_col3\" class=\"data row0 col3\" >-100</td>\n                        <td id=\"T_7449a974_7810_11ea_b7dd_a8667f01c8darow0_col4\" class=\"data row0 col4\" >337971</td>\n                        <td id=\"T_7449a974_7810_11ea_b7dd_a8667f01c8darow0_col5\" class=\"data row0 col5\" >9654</td>\n                        <td id=\"T_7449a974_7810_11ea_b7dd_a8667f01c8darow0_col6\" class=\"data row0 col6\" >17582</td>\n                        <td id=\"T_7449a974_7810_11ea_b7dd_a8667f01c8darow0_col7\" class=\"data row0 col7\" >0</td>\n            </tr>\n            <tr>\n                        <th id=\"T_7449a974_7810_11ea_b7dd_a8667f01c8dalevel0_row1\" class=\"row_heading level0 row1\" >159</th>\n                        <td id=\"T_7449a974_7810_11ea_b7dd_a8667f01c8darow1_col0\" class=\"data row1 col0\" >Spain</td>\n                        <td id=\"T_7449a974_7810_11ea_b7dd_a8667f01c8darow1_col1\" class=\"data row1 col1\" >2020-04-06 13:15:20</td>\n                        <td id=\"T_7449a974_7810_11ea_b7dd_a8667f01c8darow1_col2\" class=\"data row1 col2\" >40.4637</td>\n                        <td id=\"T_7449a974_7810_11ea_b7dd_a8667f01c8darow1_col3\" class=\"data row1 col3\" >-3.74922</td>\n                        <td id=\"T_7449a974_7810_11ea_b7dd_a8667f01c8darow1_col4\" class=\"data row1 col4\" >135032</td>\n                        <td id=\"T_7449a974_7810_11ea_b7dd_a8667f01c8darow1_col5\" class=\"data row1 col5\" >13055</td>\n                        <td id=\"T_7449a974_7810_11ea_b7dd_a8667f01c8darow1_col6\" class=\"data row1 col6\" >40437</td>\n                        <td id=\"T_7449a974_7810_11ea_b7dd_a8667f01c8darow1_col7\" class=\"data row1 col7\" >81540</td>\n            </tr>\n            <tr>\n                        <th id=\"T_7449a974_7810_11ea_b7dd_a8667f01c8dalevel0_row2\" class=\"row_heading level0 row2\" >10</th>\n                        <td id=\"T_7449a974_7810_11ea_b7dd_a8667f01c8darow2_col0\" class=\"data row2 col0\" >Italy</td>\n                        <td id=\"T_7449a974_7810_11ea_b7dd_a8667f01c8darow2_col1\" class=\"data row2 col1\" >2020-04-06 13:15:20</td>\n                        <td id=\"T_7449a974_7810_11ea_b7dd_a8667f01c8darow2_col2\" class=\"data row2 col2\" >41.8719</td>\n                        <td id=\"T_7449a974_7810_11ea_b7dd_a8667f01c8darow2_col3\" class=\"data row2 col3\" >12.5674</td>\n                        <td id=\"T_7449a974_7810_11ea_b7dd_a8667f01c8darow2_col4\" class=\"data row2 col4\" >128948</td>\n                        <td id=\"T_7449a974_7810_11ea_b7dd_a8667f01c8darow2_col5\" class=\"data row2 col5\" >15887</td>\n                        <td id=\"T_7449a974_7810_11ea_b7dd_a8667f01c8darow2_col6\" class=\"data row2 col6\" >21815</td>\n                        <td id=\"T_7449a974_7810_11ea_b7dd_a8667f01c8darow2_col7\" class=\"data row2 col7\" >91246</td>\n            </tr>\n            <tr>\n                        <th id=\"T_7449a974_7810_11ea_b7dd_a8667f01c8dalevel0_row3\" class=\"row_heading level0 row3\" >7</th>\n                        <td id=\"T_7449a974_7810_11ea_b7dd_a8667f01c8darow3_col0\" class=\"data row3 col0\" >Germany</td>\n                        <td id=\"T_7449a974_7810_11ea_b7dd_a8667f01c8darow3_col1\" class=\"data row3 col1\" >2020-04-06 13:15:20</td>\n                        <td id=\"T_7449a974_7810_11ea_b7dd_a8667f01c8darow3_col2\" class=\"data row3 col2\" >51.1657</td>\n                        <td id=\"T_7449a974_7810_11ea_b7dd_a8667f01c8darow3_col3\" class=\"data row3 col3\" >10.4515</td>\n                        <td id=\"T_7449a974_7810_11ea_b7dd_a8667f01c8darow3_col4\" class=\"data row3 col4\" >100186</td>\n                        <td id=\"T_7449a974_7810_11ea_b7dd_a8667f01c8darow3_col5\" class=\"data row3 col5\" >1590</td>\n                        <td id=\"T_7449a974_7810_11ea_b7dd_a8667f01c8darow3_col6\" class=\"data row3 col6\" >28700</td>\n                        <td id=\"T_7449a974_7810_11ea_b7dd_a8667f01c8darow3_col7\" class=\"data row3 col7\" >69896</td>\n            </tr>\n            <tr>\n                        <th id=\"T_7449a974_7810_11ea_b7dd_a8667f01c8dalevel0_row4\" class=\"row_heading level0 row4\" >6</th>\n                        <td id=\"T_7449a974_7810_11ea_b7dd_a8667f01c8darow4_col0\" class=\"data row4 col0\" >France</td>\n                        <td id=\"T_7449a974_7810_11ea_b7dd_a8667f01c8darow4_col1\" class=\"data row4 col1\" >2020-04-06 13:15:20</td>\n                        <td id=\"T_7449a974_7810_11ea_b7dd_a8667f01c8darow4_col2\" class=\"data row4 col2\" >46.2276</td>\n                        <td id=\"T_7449a974_7810_11ea_b7dd_a8667f01c8darow4_col3\" class=\"data row4 col3\" >2.2137</td>\n                        <td id=\"T_7449a974_7810_11ea_b7dd_a8667f01c8darow4_col4\" class=\"data row4 col4\" >93780</td>\n                        <td id=\"T_7449a974_7810_11ea_b7dd_a8667f01c8darow4_col5\" class=\"data row4 col5\" >8093</td>\n                        <td id=\"T_7449a974_7810_11ea_b7dd_a8667f01c8darow4_col6\" class=\"data row4 col6\" >16354</td>\n                        <td id=\"T_7449a974_7810_11ea_b7dd_a8667f01c8darow4_col7\" class=\"data row4 col7\" >69333</td>\n            </tr>\n            <tr>\n                        <th id=\"T_7449a974_7810_11ea_b7dd_a8667f01c8dalevel0_row5\" class=\"row_heading level0 row5\" >3</th>\n                        <td id=\"T_7449a974_7810_11ea_b7dd_a8667f01c8darow5_col0\" class=\"data row5 col0\" >China</td>\n                        <td id=\"T_7449a974_7810_11ea_b7dd_a8667f01c8darow5_col1\" class=\"data row5 col1\" >2020-04-06 09:37:01</td>\n                        <td id=\"T_7449a974_7810_11ea_b7dd_a8667f01c8darow5_col2\" class=\"data row5 col2\" >30.5928</td>\n                        <td id=\"T_7449a974_7810_11ea_b7dd_a8667f01c8darow5_col3\" class=\"data row5 col3\" >114.305</td>\n                        <td id=\"T_7449a974_7810_11ea_b7dd_a8667f01c8darow5_col4\" class=\"data row5 col4\" >82665</td>\n                        <td id=\"T_7449a974_7810_11ea_b7dd_a8667f01c8darow5_col5\" class=\"data row5 col5\" >3335</td>\n                        <td id=\"T_7449a974_7810_11ea_b7dd_a8667f01c8darow5_col6\" class=\"data row5 col6\" >77310</td>\n                        <td id=\"T_7449a974_7810_11ea_b7dd_a8667f01c8darow5_col7\" class=\"data row5 col7\" >2020</td>\n            </tr>\n            <tr>\n                        <th id=\"T_7449a974_7810_11ea_b7dd_a8667f01c8dalevel0_row6\" class=\"row_heading level0 row6\" >89</th>\n                        <td id=\"T_7449a974_7810_11ea_b7dd_a8667f01c8darow6_col0\" class=\"data row6 col0\" >Iran</td>\n                        <td id=\"T_7449a974_7810_11ea_b7dd_a8667f01c8darow6_col1\" class=\"data row6 col1\" >2020-04-06 13:15:20</td>\n                        <td id=\"T_7449a974_7810_11ea_b7dd_a8667f01c8darow6_col2\" class=\"data row6 col2\" >32.4279</td>\n                        <td id=\"T_7449a974_7810_11ea_b7dd_a8667f01c8darow6_col3\" class=\"data row6 col3\" >53.688</td>\n                        <td id=\"T_7449a974_7810_11ea_b7dd_a8667f01c8darow6_col4\" class=\"data row6 col4\" >60500</td>\n                        <td id=\"T_7449a974_7810_11ea_b7dd_a8667f01c8darow6_col5\" class=\"data row6 col5\" >3739</td>\n                        <td id=\"T_7449a974_7810_11ea_b7dd_a8667f01c8darow6_col6\" class=\"data row6 col6\" >24236</td>\n                        <td id=\"T_7449a974_7810_11ea_b7dd_a8667f01c8darow6_col7\" class=\"data row6 col7\" >32525</td>\n            </tr>\n            <tr>\n                        <th id=\"T_7449a974_7810_11ea_b7dd_a8667f01c8dalevel0_row7\" class=\"row_heading level0 row7\" >16</th>\n                        <td id=\"T_7449a974_7810_11ea_b7dd_a8667f01c8darow7_col0\" class=\"data row7 col0\" >United Kingdom</td>\n                        <td id=\"T_7449a974_7810_11ea_b7dd_a8667f01c8darow7_col1\" class=\"data row7 col1\" >2020-04-06 13:15:20</td>\n                        <td id=\"T_7449a974_7810_11ea_b7dd_a8667f01c8darow7_col2\" class=\"data row7 col2\" >55</td>\n                        <td id=\"T_7449a974_7810_11ea_b7dd_a8667f01c8darow7_col3\" class=\"data row7 col3\" >-3</td>\n                        <td id=\"T_7449a974_7810_11ea_b7dd_a8667f01c8darow7_col4\" class=\"data row7 col4\" >48451</td>\n                        <td id=\"T_7449a974_7810_11ea_b7dd_a8667f01c8darow7_col5\" class=\"data row7 col5\" >4943</td>\n                        <td id=\"T_7449a974_7810_11ea_b7dd_a8667f01c8darow7_col6\" class=\"data row7 col6\" >229</td>\n                        <td id=\"T_7449a974_7810_11ea_b7dd_a8667f01c8darow7_col7\" class=\"data row7 col7\" >43279</td>\n            </tr>\n            <tr>\n                        <th id=\"T_7449a974_7810_11ea_b7dd_a8667f01c8dalevel0_row8\" class=\"row_heading level0 row8\" >171</th>\n                        <td id=\"T_7449a974_7810_11ea_b7dd_a8667f01c8darow8_col0\" class=\"data row8 col0\" >Turkey</td>\n                        <td id=\"T_7449a974_7810_11ea_b7dd_a8667f01c8darow8_col1\" class=\"data row8 col1\" >2020-04-06 13:15:20</td>\n                        <td id=\"T_7449a974_7810_11ea_b7dd_a8667f01c8darow8_col2\" class=\"data row8 col2\" >38.9637</td>\n                        <td id=\"T_7449a974_7810_11ea_b7dd_a8667f01c8darow8_col3\" class=\"data row8 col3\" >35.2433</td>\n                        <td id=\"T_7449a974_7810_11ea_b7dd_a8667f01c8darow8_col4\" class=\"data row8 col4\" >27069</td>\n                        <td id=\"T_7449a974_7810_11ea_b7dd_a8667f01c8darow8_col5\" class=\"data row8 col5\" >574</td>\n                        <td id=\"T_7449a974_7810_11ea_b7dd_a8667f01c8darow8_col6\" class=\"data row8 col6\" >1042</td>\n                        <td id=\"T_7449a974_7810_11ea_b7dd_a8667f01c8darow8_col7\" class=\"data row8 col7\" >25453</td>\n            </tr>\n            <tr>\n                        <th id=\"T_7449a974_7810_11ea_b7dd_a8667f01c8dalevel0_row9\" class=\"row_heading level0 row9\" >15</th>\n                        <td id=\"T_7449a974_7810_11ea_b7dd_a8667f01c8darow9_col0\" class=\"data row9 col0\" >Switzerland</td>\n                        <td id=\"T_7449a974_7810_11ea_b7dd_a8667f01c8darow9_col1\" class=\"data row9 col1\" >2020-04-06 13:15:20</td>\n                        <td id=\"T_7449a974_7810_11ea_b7dd_a8667f01c8darow9_col2\" class=\"data row9 col2\" >46.8182</td>\n                        <td id=\"T_7449a974_7810_11ea_b7dd_a8667f01c8darow9_col3\" class=\"data row9 col3\" >8.2275</td>\n                        <td id=\"T_7449a974_7810_11ea_b7dd_a8667f01c8darow9_col4\" class=\"data row9 col4\" >21652</td>\n                        <td id=\"T_7449a974_7810_11ea_b7dd_a8667f01c8darow9_col5\" class=\"data row9 col5\" >734</td>\n                        <td id=\"T_7449a974_7810_11ea_b7dd_a8667f01c8darow9_col6\" class=\"data row9 col6\" >7298</td>\n                        <td id=\"T_7449a974_7810_11ea_b7dd_a8667f01c8darow9_col7\" class=\"data row9 col7\" >13620</td>\n            </tr>\n    </tbody></table>"
     },
     "metadata": {}
    },
    {
     "output_type": "execute_result",
     "data": {
      "text/plain": "<function __main__.show_latest_cases(n)>"
     },
     "metadata": {},
     "execution_count": 5
    }
   ],
   "source": [
    "sorted_country = country.sort_values('Confirmed', ascending= False)\n",
    "\n",
    "def highlight_col(x):\n",
    "    b = 'background-color: blue'\n",
    "    d = 'background-color: darkblue'\n",
    "    g = 'background-color: green'\n",
    "    df1 = pd.DataFrame('', index=x.index, columns=x.columns)\n",
    "    df1.iloc[:, 4] = d\n",
    "    df1.iloc[:, 5] = b\n",
    "    df1.iloc[:, 6] = g\n",
    "    return df1\n",
    "\n",
    "def show_latest_cases(n):\n",
    "    n = int(n)\n",
    "    return country.sort_values('Confirmed', ascending= False).head(n).style.apply(highlight_col, axis=None)\n",
    "\n",
    "interact(show_latest_cases, n='10')"
   ]
  },
  {
   "cell_type": "markdown",
   "metadata": {},
   "source": [
    "The table shows the countries that are worst hit by the corona-virus in terms of number of confirmed infected individuals. With the interactive function enables one to choose how many countries to view. Data from March 6th shows that the countries with most individuals diagnosed with corona-virus is the US, Spain, Italy, Germany and France. Interesting to see that is now not in the top five."
   ]
  },
  {
   "cell_type": "markdown",
   "metadata": {},
   "source": [
    "** We now want to create a more visually intuitive visualisation of the above table. **"
   ]
  },
  {
   "cell_type": "code",
   "execution_count": 6,
   "metadata": {},
   "outputs": [
    {
     "output_type": "display_data",
     "data": {
      "application/vnd.plotly.v1+json": {
       "config": {
        "plotlyServerURL": "https://plot.ly"
       },
       "data": [
        {
         "hovertemplate": "<b>%{hovertext}</b><br><br>Country=%{x}<br>Confirmed=%{marker.size}<extra></extra>",
         "hovertext": [
          "US"
         ],
         "legendgroup": "US",
         "marker": {
          "color": "#636efa",
          "size": [
           337971
          ],
          "sizemode": "area",
          "sizeref": 93.88083333333333,
          "symbol": "circle"
         },
         "mode": "markers",
         "name": "US",
         "showlegend": true,
         "type": "scatter",
         "x": [
          "US"
         ],
         "xaxis": "x",
         "y": [
          337971
         ],
         "yaxis": "y"
        },
        {
         "hovertemplate": "<b>%{hovertext}</b><br><br>Country=%{x}<br>Confirmed=%{marker.size}<extra></extra>",
         "hovertext": [
          "Spain"
         ],
         "legendgroup": "Spain",
         "marker": {
          "color": "#EF553B",
          "size": [
           135032
          ],
          "sizemode": "area",
          "sizeref": 93.88083333333333,
          "symbol": "circle"
         },
         "mode": "markers",
         "name": "Spain",
         "showlegend": true,
         "type": "scatter",
         "x": [
          "Spain"
         ],
         "xaxis": "x",
         "y": [
          135032
         ],
         "yaxis": "y"
        },
        {
         "hovertemplate": "<b>%{hovertext}</b><br><br>Country=%{x}<br>Confirmed=%{marker.size}<extra></extra>",
         "hovertext": [
          "Italy"
         ],
         "legendgroup": "Italy",
         "marker": {
          "color": "#00cc96",
          "size": [
           128948
          ],
          "sizemode": "area",
          "sizeref": 93.88083333333333,
          "symbol": "circle"
         },
         "mode": "markers",
         "name": "Italy",
         "showlegend": true,
         "type": "scatter",
         "x": [
          "Italy"
         ],
         "xaxis": "x",
         "y": [
          128948
         ],
         "yaxis": "y"
        },
        {
         "hovertemplate": "<b>%{hovertext}</b><br><br>Country=%{x}<br>Confirmed=%{marker.size}<extra></extra>",
         "hovertext": [
          "Germany"
         ],
         "legendgroup": "Germany",
         "marker": {
          "color": "#ab63fa",
          "size": [
           100186
          ],
          "sizemode": "area",
          "sizeref": 93.88083333333333,
          "symbol": "circle"
         },
         "mode": "markers",
         "name": "Germany",
         "showlegend": true,
         "type": "scatter",
         "x": [
          "Germany"
         ],
         "xaxis": "x",
         "y": [
          100186
         ],
         "yaxis": "y"
        },
        {
         "hovertemplate": "<b>%{hovertext}</b><br><br>Country=%{x}<br>Confirmed=%{marker.size}<extra></extra>",
         "hovertext": [
          "France"
         ],
         "legendgroup": "France",
         "marker": {
          "color": "#FFA15A",
          "size": [
           93780
          ],
          "sizemode": "area",
          "sizeref": 93.88083333333333,
          "symbol": "circle"
         },
         "mode": "markers",
         "name": "France",
         "showlegend": true,
         "type": "scatter",
         "x": [
          "France"
         ],
         "xaxis": "x",
         "y": [
          93780
         ],
         "yaxis": "y"
        },
        {
         "hovertemplate": "<b>%{hovertext}</b><br><br>Country=%{x}<br>Confirmed=%{marker.size}<extra></extra>",
         "hovertext": [
          "China"
         ],
         "legendgroup": "China",
         "marker": {
          "color": "#19d3f3",
          "size": [
           82665
          ],
          "sizemode": "area",
          "sizeref": 93.88083333333333,
          "symbol": "circle"
         },
         "mode": "markers",
         "name": "China",
         "showlegend": true,
         "type": "scatter",
         "x": [
          "China"
         ],
         "xaxis": "x",
         "y": [
          82665
         ],
         "yaxis": "y"
        },
        {
         "hovertemplate": "<b>%{hovertext}</b><br><br>Country=%{x}<br>Confirmed=%{marker.size}<extra></extra>",
         "hovertext": [
          "Iran"
         ],
         "legendgroup": "Iran",
         "marker": {
          "color": "#FF6692",
          "size": [
           60500
          ],
          "sizemode": "area",
          "sizeref": 93.88083333333333,
          "symbol": "circle"
         },
         "mode": "markers",
         "name": "Iran",
         "showlegend": true,
         "type": "scatter",
         "x": [
          "Iran"
         ],
         "xaxis": "x",
         "y": [
          60500
         ],
         "yaxis": "y"
        },
        {
         "hovertemplate": "<b>%{hovertext}</b><br><br>Country=%{x}<br>Confirmed=%{marker.size}<extra></extra>",
         "hovertext": [
          "United Kingdom"
         ],
         "legendgroup": "United Kingdom",
         "marker": {
          "color": "#B6E880",
          "size": [
           48451
          ],
          "sizemode": "area",
          "sizeref": 93.88083333333333,
          "symbol": "circle"
         },
         "mode": "markers",
         "name": "United Kingdom",
         "showlegend": true,
         "type": "scatter",
         "x": [
          "United Kingdom"
         ],
         "xaxis": "x",
         "y": [
          48451
         ],
         "yaxis": "y"
        },
        {
         "hovertemplate": "<b>%{hovertext}</b><br><br>Country=%{x}<br>Confirmed=%{marker.size}<extra></extra>",
         "hovertext": [
          "Turkey"
         ],
         "legendgroup": "Turkey",
         "marker": {
          "color": "#FF97FF",
          "size": [
           27069
          ],
          "sizemode": "area",
          "sizeref": 93.88083333333333,
          "symbol": "circle"
         },
         "mode": "markers",
         "name": "Turkey",
         "showlegend": true,
         "type": "scatter",
         "x": [
          "Turkey"
         ],
         "xaxis": "x",
         "y": [
          27069
         ],
         "yaxis": "y"
        },
        {
         "hovertemplate": "<b>%{hovertext}</b><br><br>Country=%{x}<br>Confirmed=%{marker.size}<extra></extra>",
         "hovertext": [
          "Switzerland"
         ],
         "legendgroup": "Switzerland",
         "marker": {
          "color": "#FECB52",
          "size": [
           21652
          ],
          "sizemode": "area",
          "sizeref": 93.88083333333333,
          "symbol": "circle"
         },
         "mode": "markers",
         "name": "Switzerland",
         "showlegend": true,
         "type": "scatter",
         "x": [
          "Switzerland"
         ],
         "xaxis": "x",
         "y": [
          21652
         ],
         "yaxis": "y"
        }
       ],
       "layout": {
        "legend": {
         "itemsizing": "constant",
         "title": {
          "text": "Country"
         },
         "tracegroupgap": 0
        },
        "margin": {
         "t": 60
        },
        "template": {
         "data": {
          "bar": [
           {
            "error_x": {
             "color": "#2a3f5f"
            },
            "error_y": {
             "color": "#2a3f5f"
            },
            "marker": {
             "line": {
              "color": "#E5ECF6",
              "width": 0.5
             }
            },
            "type": "bar"
           }
          ],
          "barpolar": [
           {
            "marker": {
             "line": {
              "color": "#E5ECF6",
              "width": 0.5
             }
            },
            "type": "barpolar"
           }
          ],
          "carpet": [
           {
            "aaxis": {
             "endlinecolor": "#2a3f5f",
             "gridcolor": "white",
             "linecolor": "white",
             "minorgridcolor": "white",
             "startlinecolor": "#2a3f5f"
            },
            "baxis": {
             "endlinecolor": "#2a3f5f",
             "gridcolor": "white",
             "linecolor": "white",
             "minorgridcolor": "white",
             "startlinecolor": "#2a3f5f"
            },
            "type": "carpet"
           }
          ],
          "choropleth": [
           {
            "colorbar": {
             "outlinewidth": 0,
             "ticks": ""
            },
            "type": "choropleth"
           }
          ],
          "contour": [
           {
            "colorbar": {
             "outlinewidth": 0,
             "ticks": ""
            },
            "colorscale": [
             [
              0,
              "#0d0887"
             ],
             [
              0.1111111111111111,
              "#46039f"
             ],
             [
              0.2222222222222222,
              "#7201a8"
             ],
             [
              0.3333333333333333,
              "#9c179e"
             ],
             [
              0.4444444444444444,
              "#bd3786"
             ],
             [
              0.5555555555555556,
              "#d8576b"
             ],
             [
              0.6666666666666666,
              "#ed7953"
             ],
             [
              0.7777777777777778,
              "#fb9f3a"
             ],
             [
              0.8888888888888888,
              "#fdca26"
             ],
             [
              1,
              "#f0f921"
             ]
            ],
            "type": "contour"
           }
          ],
          "contourcarpet": [
           {
            "colorbar": {
             "outlinewidth": 0,
             "ticks": ""
            },
            "type": "contourcarpet"
           }
          ],
          "heatmap": [
           {
            "colorbar": {
             "outlinewidth": 0,
             "ticks": ""
            },
            "colorscale": [
             [
              0,
              "#0d0887"
             ],
             [
              0.1111111111111111,
              "#46039f"
             ],
             [
              0.2222222222222222,
              "#7201a8"
             ],
             [
              0.3333333333333333,
              "#9c179e"
             ],
             [
              0.4444444444444444,
              "#bd3786"
             ],
             [
              0.5555555555555556,
              "#d8576b"
             ],
             [
              0.6666666666666666,
              "#ed7953"
             ],
             [
              0.7777777777777778,
              "#fb9f3a"
             ],
             [
              0.8888888888888888,
              "#fdca26"
             ],
             [
              1,
              "#f0f921"
             ]
            ],
            "type": "heatmap"
           }
          ],
          "heatmapgl": [
           {
            "colorbar": {
             "outlinewidth": 0,
             "ticks": ""
            },
            "colorscale": [
             [
              0,
              "#0d0887"
             ],
             [
              0.1111111111111111,
              "#46039f"
             ],
             [
              0.2222222222222222,
              "#7201a8"
             ],
             [
              0.3333333333333333,
              "#9c179e"
             ],
             [
              0.4444444444444444,
              "#bd3786"
             ],
             [
              0.5555555555555556,
              "#d8576b"
             ],
             [
              0.6666666666666666,
              "#ed7953"
             ],
             [
              0.7777777777777778,
              "#fb9f3a"
             ],
             [
              0.8888888888888888,
              "#fdca26"
             ],
             [
              1,
              "#f0f921"
             ]
            ],
            "type": "heatmapgl"
           }
          ],
          "histogram": [
           {
            "marker": {
             "colorbar": {
              "outlinewidth": 0,
              "ticks": ""
             }
            },
            "type": "histogram"
           }
          ],
          "histogram2d": [
           {
            "colorbar": {
             "outlinewidth": 0,
             "ticks": ""
            },
            "colorscale": [
             [
              0,
              "#0d0887"
             ],
             [
              0.1111111111111111,
              "#46039f"
             ],
             [
              0.2222222222222222,
              "#7201a8"
             ],
             [
              0.3333333333333333,
              "#9c179e"
             ],
             [
              0.4444444444444444,
              "#bd3786"
             ],
             [
              0.5555555555555556,
              "#d8576b"
             ],
             [
              0.6666666666666666,
              "#ed7953"
             ],
             [
              0.7777777777777778,
              "#fb9f3a"
             ],
             [
              0.8888888888888888,
              "#fdca26"
             ],
             [
              1,
              "#f0f921"
             ]
            ],
            "type": "histogram2d"
           }
          ],
          "histogram2dcontour": [
           {
            "colorbar": {
             "outlinewidth": 0,
             "ticks": ""
            },
            "colorscale": [
             [
              0,
              "#0d0887"
             ],
             [
              0.1111111111111111,
              "#46039f"
             ],
             [
              0.2222222222222222,
              "#7201a8"
             ],
             [
              0.3333333333333333,
              "#9c179e"
             ],
             [
              0.4444444444444444,
              "#bd3786"
             ],
             [
              0.5555555555555556,
              "#d8576b"
             ],
             [
              0.6666666666666666,
              "#ed7953"
             ],
             [
              0.7777777777777778,
              "#fb9f3a"
             ],
             [
              0.8888888888888888,
              "#fdca26"
             ],
             [
              1,
              "#f0f921"
             ]
            ],
            "type": "histogram2dcontour"
           }
          ],
          "mesh3d": [
           {
            "colorbar": {
             "outlinewidth": 0,
             "ticks": ""
            },
            "type": "mesh3d"
           }
          ],
          "parcoords": [
           {
            "line": {
             "colorbar": {
              "outlinewidth": 0,
              "ticks": ""
             }
            },
            "type": "parcoords"
           }
          ],
          "pie": [
           {
            "automargin": true,
            "type": "pie"
           }
          ],
          "scatter": [
           {
            "marker": {
             "colorbar": {
              "outlinewidth": 0,
              "ticks": ""
             }
            },
            "type": "scatter"
           }
          ],
          "scatter3d": [
           {
            "line": {
             "colorbar": {
              "outlinewidth": 0,
              "ticks": ""
             }
            },
            "marker": {
             "colorbar": {
              "outlinewidth": 0,
              "ticks": ""
             }
            },
            "type": "scatter3d"
           }
          ],
          "scattercarpet": [
           {
            "marker": {
             "colorbar": {
              "outlinewidth": 0,
              "ticks": ""
             }
            },
            "type": "scattercarpet"
           }
          ],
          "scattergeo": [
           {
            "marker": {
             "colorbar": {
              "outlinewidth": 0,
              "ticks": ""
             }
            },
            "type": "scattergeo"
           }
          ],
          "scattergl": [
           {
            "marker": {
             "colorbar": {
              "outlinewidth": 0,
              "ticks": ""
             }
            },
            "type": "scattergl"
           }
          ],
          "scattermapbox": [
           {
            "marker": {
             "colorbar": {
              "outlinewidth": 0,
              "ticks": ""
             }
            },
            "type": "scattermapbox"
           }
          ],
          "scatterpolar": [
           {
            "marker": {
             "colorbar": {
              "outlinewidth": 0,
              "ticks": ""
             }
            },
            "type": "scatterpolar"
           }
          ],
          "scatterpolargl": [
           {
            "marker": {
             "colorbar": {
              "outlinewidth": 0,
              "ticks": ""
             }
            },
            "type": "scatterpolargl"
           }
          ],
          "scatterternary": [
           {
            "marker": {
             "colorbar": {
              "outlinewidth": 0,
              "ticks": ""
             }
            },
            "type": "scatterternary"
           }
          ],
          "surface": [
           {
            "colorbar": {
             "outlinewidth": 0,
             "ticks": ""
            },
            "colorscale": [
             [
              0,
              "#0d0887"
             ],
             [
              0.1111111111111111,
              "#46039f"
             ],
             [
              0.2222222222222222,
              "#7201a8"
             ],
             [
              0.3333333333333333,
              "#9c179e"
             ],
             [
              0.4444444444444444,
              "#bd3786"
             ],
             [
              0.5555555555555556,
              "#d8576b"
             ],
             [
              0.6666666666666666,
              "#ed7953"
             ],
             [
              0.7777777777777778,
              "#fb9f3a"
             ],
             [
              0.8888888888888888,
              "#fdca26"
             ],
             [
              1,
              "#f0f921"
             ]
            ],
            "type": "surface"
           }
          ],
          "table": [
           {
            "cells": {
             "fill": {
              "color": "#EBF0F8"
             },
             "line": {
              "color": "white"
             }
            },
            "header": {
             "fill": {
              "color": "#C8D4E3"
             },
             "line": {
              "color": "white"
             }
            },
            "type": "table"
           }
          ]
         },
         "layout": {
          "annotationdefaults": {
           "arrowcolor": "#2a3f5f",
           "arrowhead": 0,
           "arrowwidth": 1
          },
          "coloraxis": {
           "colorbar": {
            "outlinewidth": 0,
            "ticks": ""
           }
          },
          "colorscale": {
           "diverging": [
            [
             0,
             "#8e0152"
            ],
            [
             0.1,
             "#c51b7d"
            ],
            [
             0.2,
             "#de77ae"
            ],
            [
             0.3,
             "#f1b6da"
            ],
            [
             0.4,
             "#fde0ef"
            ],
            [
             0.5,
             "#f7f7f7"
            ],
            [
             0.6,
             "#e6f5d0"
            ],
            [
             0.7,
             "#b8e186"
            ],
            [
             0.8,
             "#7fbc41"
            ],
            [
             0.9,
             "#4d9221"
            ],
            [
             1,
             "#276419"
            ]
           ],
           "sequential": [
            [
             0,
             "#0d0887"
            ],
            [
             0.1111111111111111,
             "#46039f"
            ],
            [
             0.2222222222222222,
             "#7201a8"
            ],
            [
             0.3333333333333333,
             "#9c179e"
            ],
            [
             0.4444444444444444,
             "#bd3786"
            ],
            [
             0.5555555555555556,
             "#d8576b"
            ],
            [
             0.6666666666666666,
             "#ed7953"
            ],
            [
             0.7777777777777778,
             "#fb9f3a"
            ],
            [
             0.8888888888888888,
             "#fdca26"
            ],
            [
             1,
             "#f0f921"
            ]
           ],
           "sequentialminus": [
            [
             0,
             "#0d0887"
            ],
            [
             0.1111111111111111,
             "#46039f"
            ],
            [
             0.2222222222222222,
             "#7201a8"
            ],
            [
             0.3333333333333333,
             "#9c179e"
            ],
            [
             0.4444444444444444,
             "#bd3786"
            ],
            [
             0.5555555555555556,
             "#d8576b"
            ],
            [
             0.6666666666666666,
             "#ed7953"
            ],
            [
             0.7777777777777778,
             "#fb9f3a"
            ],
            [
             0.8888888888888888,
             "#fdca26"
            ],
            [
             1,
             "#f0f921"
            ]
           ]
          },
          "colorway": [
           "#636efa",
           "#EF553B",
           "#00cc96",
           "#ab63fa",
           "#FFA15A",
           "#19d3f3",
           "#FF6692",
           "#B6E880",
           "#FF97FF",
           "#FECB52"
          ],
          "font": {
           "color": "#2a3f5f"
          },
          "geo": {
           "bgcolor": "white",
           "lakecolor": "white",
           "landcolor": "#E5ECF6",
           "showlakes": true,
           "showland": true,
           "subunitcolor": "white"
          },
          "hoverlabel": {
           "align": "left"
          },
          "hovermode": "closest",
          "mapbox": {
           "style": "light"
          },
          "paper_bgcolor": "white",
          "plot_bgcolor": "#E5ECF6",
          "polar": {
           "angularaxis": {
            "gridcolor": "white",
            "linecolor": "white",
            "ticks": ""
           },
           "bgcolor": "#E5ECF6",
           "radialaxis": {
            "gridcolor": "white",
            "linecolor": "white",
            "ticks": ""
           }
          },
          "scene": {
           "xaxis": {
            "backgroundcolor": "#E5ECF6",
            "gridcolor": "white",
            "gridwidth": 2,
            "linecolor": "white",
            "showbackground": true,
            "ticks": "",
            "zerolinecolor": "white"
           },
           "yaxis": {
            "backgroundcolor": "#E5ECF6",
            "gridcolor": "white",
            "gridwidth": 2,
            "linecolor": "white",
            "showbackground": true,
            "ticks": "",
            "zerolinecolor": "white"
           },
           "zaxis": {
            "backgroundcolor": "#E5ECF6",
            "gridcolor": "white",
            "gridwidth": 2,
            "linecolor": "white",
            "showbackground": true,
            "ticks": "",
            "zerolinecolor": "white"
           }
          },
          "shapedefaults": {
           "line": {
            "color": "#2a3f5f"
           }
          },
          "ternary": {
           "aaxis": {
            "gridcolor": "white",
            "linecolor": "white",
            "ticks": ""
           },
           "baxis": {
            "gridcolor": "white",
            "linecolor": "white",
            "ticks": ""
           },
           "bgcolor": "#E5ECF6",
           "caxis": {
            "gridcolor": "white",
            "linecolor": "white",
            "ticks": ""
           }
          },
          "title": {
           "x": 0.05
          },
          "xaxis": {
           "automargin": true,
           "gridcolor": "white",
           "linecolor": "white",
           "ticks": "",
           "title": {
            "standoff": 15
           },
           "zerolinecolor": "white",
           "zerolinewidth": 2
          },
          "yaxis": {
           "automargin": true,
           "gridcolor": "white",
           "linecolor": "white",
           "ticks": "",
           "title": {
            "standoff": 15
           },
           "zerolinecolor": "white",
           "zerolinewidth": 2
          }
         }
        },
        "title": {
         "text": "10 Worst hit countries"
        },
        "width": 700,
        "xaxis": {
         "anchor": "y",
         "categoryarray": [
          "US",
          "Spain",
          "Italy",
          "Germany",
          "France",
          "China",
          "Iran",
          "United Kingdom",
          "Turkey",
          "Switzerland"
         ],
         "categoryorder": "array",
         "domain": [
          0,
          1
         ],
         "title": {
          "text": "Countries"
         }
        },
        "yaxis": {
         "anchor": "x",
         "domain": [
          0,
          1
         ],
         "title": {
          "text": "Confirmed Cases"
         }
        }
       }
      }
     },
     "metadata": {}
    },
    {
     "output_type": "execute_result",
     "data": {
      "text/plain": "<function __main__.bubble_chart(n)>"
     },
     "metadata": {},
     "execution_count": 6
    }
   ],
   "source": [
    "def bubble_chart(n):\n",
    "    fig = px.scatter(sorted_country.head(n), x=\"Country\", y=\"Confirmed\", size=\"Confirmed\", color=\"Country\",\n",
    "               hover_name=\"Country\", size_max=60)\n",
    "    fig.update_layout(\n",
    "    title=str(n) +\" Worst Hit Countries\",\n",
    "    xaxis_title=\"Countries\",\n",
    "    yaxis_title=\"Confirmed Cases\",\n",
    "    width = 700\n",
    "    )\n",
    "    fig.show()\n",
    "interact(bubble_chart, n=10)"
   ]
  },
  {
   "cell_type": "markdown",
   "metadata": {},
   "source": [
    "The interactive legend lets one choose the number of countries viewed. The plot confirms what we found in the table. We note that in order to fully grasp what countries are worst hit we would need to look at the numbers relative to the sizes of the populations. "
   ]
  },
  {
   "cell_type": "markdown",
   "metadata": {},
   "source": [
    "# Visualisation of worst affected countries in terms of deaths #"
   ]
  },
  {
   "cell_type": "markdown",
   "metadata": {},
   "source": [
    "** To gain another perspective on the current status of Covid-19, we will now turn to look at number of deaths across countries. **"
   ]
  },
  {
   "cell_type": "code",
   "execution_count": 7,
   "metadata": {},
   "outputs": [
    {
     "output_type": "display_data",
     "data": {
      "application/vnd.plotly.v1+json": {
       "config": {
        "plotlyServerURL": "https://plot.ly"
       },
       "data": [
        {
         "alignmentgroup": "True",
         "hovertemplate": "Country=%{x}<br>Deaths=%{y}<extra></extra>",
         "legendgroup": "",
         "marker": {
          "color": "blue"
         },
         "name": "",
         "offsetgroup": "",
         "orientation": "v",
         "showlegend": false,
         "textposition": "auto",
         "type": "bar",
         "x": [
          "US",
          "Spain",
          "Italy",
          "Germany",
          "France",
          "China",
          "Iran",
          "United Kingdom",
          "Turkey",
          "Switzerland"
         ],
         "xaxis": "x",
         "y": [
          9654,
          13055,
          15887,
          1590,
          8093,
          3335,
          3739,
          4943,
          574,
          734
         ],
         "yaxis": "y"
        }
       ],
       "layout": {
        "barmode": "relative",
        "height": 400,
        "legend": {
         "tracegroupgap": 0
        },
        "template": {
         "data": {
          "bar": [
           {
            "error_x": {
             "color": "#2a3f5f"
            },
            "error_y": {
             "color": "#2a3f5f"
            },
            "marker": {
             "line": {
              "color": "#E5ECF6",
              "width": 0.5
             }
            },
            "type": "bar"
           }
          ],
          "barpolar": [
           {
            "marker": {
             "line": {
              "color": "#E5ECF6",
              "width": 0.5
             }
            },
            "type": "barpolar"
           }
          ],
          "carpet": [
           {
            "aaxis": {
             "endlinecolor": "#2a3f5f",
             "gridcolor": "white",
             "linecolor": "white",
             "minorgridcolor": "white",
             "startlinecolor": "#2a3f5f"
            },
            "baxis": {
             "endlinecolor": "#2a3f5f",
             "gridcolor": "white",
             "linecolor": "white",
             "minorgridcolor": "white",
             "startlinecolor": "#2a3f5f"
            },
            "type": "carpet"
           }
          ],
          "choropleth": [
           {
            "colorbar": {
             "outlinewidth": 0,
             "ticks": ""
            },
            "type": "choropleth"
           }
          ],
          "contour": [
           {
            "colorbar": {
             "outlinewidth": 0,
             "ticks": ""
            },
            "colorscale": [
             [
              0,
              "#0d0887"
             ],
             [
              0.1111111111111111,
              "#46039f"
             ],
             [
              0.2222222222222222,
              "#7201a8"
             ],
             [
              0.3333333333333333,
              "#9c179e"
             ],
             [
              0.4444444444444444,
              "#bd3786"
             ],
             [
              0.5555555555555556,
              "#d8576b"
             ],
             [
              0.6666666666666666,
              "#ed7953"
             ],
             [
              0.7777777777777778,
              "#fb9f3a"
             ],
             [
              0.8888888888888888,
              "#fdca26"
             ],
             [
              1,
              "#f0f921"
             ]
            ],
            "type": "contour"
           }
          ],
          "contourcarpet": [
           {
            "colorbar": {
             "outlinewidth": 0,
             "ticks": ""
            },
            "type": "contourcarpet"
           }
          ],
          "heatmap": [
           {
            "colorbar": {
             "outlinewidth": 0,
             "ticks": ""
            },
            "colorscale": [
             [
              0,
              "#0d0887"
             ],
             [
              0.1111111111111111,
              "#46039f"
             ],
             [
              0.2222222222222222,
              "#7201a8"
             ],
             [
              0.3333333333333333,
              "#9c179e"
             ],
             [
              0.4444444444444444,
              "#bd3786"
             ],
             [
              0.5555555555555556,
              "#d8576b"
             ],
             [
              0.6666666666666666,
              "#ed7953"
             ],
             [
              0.7777777777777778,
              "#fb9f3a"
             ],
             [
              0.8888888888888888,
              "#fdca26"
             ],
             [
              1,
              "#f0f921"
             ]
            ],
            "type": "heatmap"
           }
          ],
          "heatmapgl": [
           {
            "colorbar": {
             "outlinewidth": 0,
             "ticks": ""
            },
            "colorscale": [
             [
              0,
              "#0d0887"
             ],
             [
              0.1111111111111111,
              "#46039f"
             ],
             [
              0.2222222222222222,
              "#7201a8"
             ],
             [
              0.3333333333333333,
              "#9c179e"
             ],
             [
              0.4444444444444444,
              "#bd3786"
             ],
             [
              0.5555555555555556,
              "#d8576b"
             ],
             [
              0.6666666666666666,
              "#ed7953"
             ],
             [
              0.7777777777777778,
              "#fb9f3a"
             ],
             [
              0.8888888888888888,
              "#fdca26"
             ],
             [
              1,
              "#f0f921"
             ]
            ],
            "type": "heatmapgl"
           }
          ],
          "histogram": [
           {
            "marker": {
             "colorbar": {
              "outlinewidth": 0,
              "ticks": ""
             }
            },
            "type": "histogram"
           }
          ],
          "histogram2d": [
           {
            "colorbar": {
             "outlinewidth": 0,
             "ticks": ""
            },
            "colorscale": [
             [
              0,
              "#0d0887"
             ],
             [
              0.1111111111111111,
              "#46039f"
             ],
             [
              0.2222222222222222,
              "#7201a8"
             ],
             [
              0.3333333333333333,
              "#9c179e"
             ],
             [
              0.4444444444444444,
              "#bd3786"
             ],
             [
              0.5555555555555556,
              "#d8576b"
             ],
             [
              0.6666666666666666,
              "#ed7953"
             ],
             [
              0.7777777777777778,
              "#fb9f3a"
             ],
             [
              0.8888888888888888,
              "#fdca26"
             ],
             [
              1,
              "#f0f921"
             ]
            ],
            "type": "histogram2d"
           }
          ],
          "histogram2dcontour": [
           {
            "colorbar": {
             "outlinewidth": 0,
             "ticks": ""
            },
            "colorscale": [
             [
              0,
              "#0d0887"
             ],
             [
              0.1111111111111111,
              "#46039f"
             ],
             [
              0.2222222222222222,
              "#7201a8"
             ],
             [
              0.3333333333333333,
              "#9c179e"
             ],
             [
              0.4444444444444444,
              "#bd3786"
             ],
             [
              0.5555555555555556,
              "#d8576b"
             ],
             [
              0.6666666666666666,
              "#ed7953"
             ],
             [
              0.7777777777777778,
              "#fb9f3a"
             ],
             [
              0.8888888888888888,
              "#fdca26"
             ],
             [
              1,
              "#f0f921"
             ]
            ],
            "type": "histogram2dcontour"
           }
          ],
          "mesh3d": [
           {
            "colorbar": {
             "outlinewidth": 0,
             "ticks": ""
            },
            "type": "mesh3d"
           }
          ],
          "parcoords": [
           {
            "line": {
             "colorbar": {
              "outlinewidth": 0,
              "ticks": ""
             }
            },
            "type": "parcoords"
           }
          ],
          "pie": [
           {
            "automargin": true,
            "type": "pie"
           }
          ],
          "scatter": [
           {
            "marker": {
             "colorbar": {
              "outlinewidth": 0,
              "ticks": ""
             }
            },
            "type": "scatter"
           }
          ],
          "scatter3d": [
           {
            "line": {
             "colorbar": {
              "outlinewidth": 0,
              "ticks": ""
             }
            },
            "marker": {
             "colorbar": {
              "outlinewidth": 0,
              "ticks": ""
             }
            },
            "type": "scatter3d"
           }
          ],
          "scattercarpet": [
           {
            "marker": {
             "colorbar": {
              "outlinewidth": 0,
              "ticks": ""
             }
            },
            "type": "scattercarpet"
           }
          ],
          "scattergeo": [
           {
            "marker": {
             "colorbar": {
              "outlinewidth": 0,
              "ticks": ""
             }
            },
            "type": "scattergeo"
           }
          ],
          "scattergl": [
           {
            "marker": {
             "colorbar": {
              "outlinewidth": 0,
              "ticks": ""
             }
            },
            "type": "scattergl"
           }
          ],
          "scattermapbox": [
           {
            "marker": {
             "colorbar": {
              "outlinewidth": 0,
              "ticks": ""
             }
            },
            "type": "scattermapbox"
           }
          ],
          "scatterpolar": [
           {
            "marker": {
             "colorbar": {
              "outlinewidth": 0,
              "ticks": ""
             }
            },
            "type": "scatterpolar"
           }
          ],
          "scatterpolargl": [
           {
            "marker": {
             "colorbar": {
              "outlinewidth": 0,
              "ticks": ""
             }
            },
            "type": "scatterpolargl"
           }
          ],
          "scatterternary": [
           {
            "marker": {
             "colorbar": {
              "outlinewidth": 0,
              "ticks": ""
             }
            },
            "type": "scatterternary"
           }
          ],
          "surface": [
           {
            "colorbar": {
             "outlinewidth": 0,
             "ticks": ""
            },
            "colorscale": [
             [
              0,
              "#0d0887"
             ],
             [
              0.1111111111111111,
              "#46039f"
             ],
             [
              0.2222222222222222,
              "#7201a8"
             ],
             [
              0.3333333333333333,
              "#9c179e"
             ],
             [
              0.4444444444444444,
              "#bd3786"
             ],
             [
              0.5555555555555556,
              "#d8576b"
             ],
             [
              0.6666666666666666,
              "#ed7953"
             ],
             [
              0.7777777777777778,
              "#fb9f3a"
             ],
             [
              0.8888888888888888,
              "#fdca26"
             ],
             [
              1,
              "#f0f921"
             ]
            ],
            "type": "surface"
           }
          ],
          "table": [
           {
            "cells": {
             "fill": {
              "color": "#EBF0F8"
             },
             "line": {
              "color": "white"
             }
            },
            "header": {
             "fill": {
              "color": "#C8D4E3"
             },
             "line": {
              "color": "white"
             }
            },
            "type": "table"
           }
          ]
         },
         "layout": {
          "annotationdefaults": {
           "arrowcolor": "#2a3f5f",
           "arrowhead": 0,
           "arrowwidth": 1
          },
          "coloraxis": {
           "colorbar": {
            "outlinewidth": 0,
            "ticks": ""
           }
          },
          "colorscale": {
           "diverging": [
            [
             0,
             "#8e0152"
            ],
            [
             0.1,
             "#c51b7d"
            ],
            [
             0.2,
             "#de77ae"
            ],
            [
             0.3,
             "#f1b6da"
            ],
            [
             0.4,
             "#fde0ef"
            ],
            [
             0.5,
             "#f7f7f7"
            ],
            [
             0.6,
             "#e6f5d0"
            ],
            [
             0.7,
             "#b8e186"
            ],
            [
             0.8,
             "#7fbc41"
            ],
            [
             0.9,
             "#4d9221"
            ],
            [
             1,
             "#276419"
            ]
           ],
           "sequential": [
            [
             0,
             "#0d0887"
            ],
            [
             0.1111111111111111,
             "#46039f"
            ],
            [
             0.2222222222222222,
             "#7201a8"
            ],
            [
             0.3333333333333333,
             "#9c179e"
            ],
            [
             0.4444444444444444,
             "#bd3786"
            ],
            [
             0.5555555555555556,
             "#d8576b"
            ],
            [
             0.6666666666666666,
             "#ed7953"
            ],
            [
             0.7777777777777778,
             "#fb9f3a"
            ],
            [
             0.8888888888888888,
             "#fdca26"
            ],
            [
             1,
             "#f0f921"
            ]
           ],
           "sequentialminus": [
            [
             0,
             "#0d0887"
            ],
            [
             0.1111111111111111,
             "#46039f"
            ],
            [
             0.2222222222222222,
             "#7201a8"
            ],
            [
             0.3333333333333333,
             "#9c179e"
            ],
            [
             0.4444444444444444,
             "#bd3786"
            ],
            [
             0.5555555555555556,
             "#d8576b"
            ],
            [
             0.6666666666666666,
             "#ed7953"
            ],
            [
             0.7777777777777778,
             "#fb9f3a"
            ],
            [
             0.8888888888888888,
             "#fdca26"
            ],
            [
             1,
             "#f0f921"
            ]
           ]
          },
          "colorway": [
           "#636efa",
           "#EF553B",
           "#00cc96",
           "#ab63fa",
           "#FFA15A",
           "#19d3f3",
           "#FF6692",
           "#B6E880",
           "#FF97FF",
           "#FECB52"
          ],
          "font": {
           "color": "#2a3f5f"
          },
          "geo": {
           "bgcolor": "white",
           "lakecolor": "white",
           "landcolor": "#E5ECF6",
           "showlakes": true,
           "showland": true,
           "subunitcolor": "white"
          },
          "hoverlabel": {
           "align": "left"
          },
          "hovermode": "closest",
          "mapbox": {
           "style": "light"
          },
          "paper_bgcolor": "white",
          "plot_bgcolor": "#E5ECF6",
          "polar": {
           "angularaxis": {
            "gridcolor": "white",
            "linecolor": "white",
            "ticks": ""
           },
           "bgcolor": "#E5ECF6",
           "radialaxis": {
            "gridcolor": "white",
            "linecolor": "white",
            "ticks": ""
           }
          },
          "scene": {
           "xaxis": {
            "backgroundcolor": "#E5ECF6",
            "gridcolor": "white",
            "gridwidth": 2,
            "linecolor": "white",
            "showbackground": true,
            "ticks": "",
            "zerolinecolor": "white"
           },
           "yaxis": {
            "backgroundcolor": "#E5ECF6",
            "gridcolor": "white",
            "gridwidth": 2,
            "linecolor": "white",
            "showbackground": true,
            "ticks": "",
            "zerolinecolor": "white"
           },
           "zaxis": {
            "backgroundcolor": "#E5ECF6",
            "gridcolor": "white",
            "gridwidth": 2,
            "linecolor": "white",
            "showbackground": true,
            "ticks": "",
            "zerolinecolor": "white"
           }
          },
          "shapedefaults": {
           "line": {
            "color": "#2a3f5f"
           }
          },
          "ternary": {
           "aaxis": {
            "gridcolor": "white",
            "linecolor": "white",
            "ticks": ""
           },
           "baxis": {
            "gridcolor": "white",
            "linecolor": "white",
            "ticks": ""
           },
           "bgcolor": "#E5ECF6",
           "caxis": {
            "gridcolor": "white",
            "linecolor": "white",
            "ticks": ""
           }
          },
          "title": {
           "x": 0.05
          },
          "xaxis": {
           "automargin": true,
           "gridcolor": "white",
           "linecolor": "white",
           "ticks": "",
           "title": {
            "standoff": 15
           },
           "zerolinecolor": "white",
           "zerolinewidth": 2
          },
          "yaxis": {
           "automargin": true,
           "gridcolor": "white",
           "linecolor": "white",
           "ticks": "",
           "title": {
            "standoff": 15
           },
           "zerolinecolor": "white",
           "zerolinewidth": 2
          }
         }
        },
        "title": {
         "text": "10 Countries most affected by Covid-19"
        },
        "width": 800,
        "xaxis": {
         "anchor": "y",
         "domain": [
          0,
          1
         ],
         "title": {
          "text": "Country"
         }
        },
        "yaxis": {
         "anchor": "x",
         "domain": [
          0,
          1
         ],
         "title": {
          "text": "Deaths"
         }
        }
       }
      }
     },
     "metadata": {}
    }
   ],
   "source": [
    "px.bar(\n",
    "    sorted_country.head(10),\n",
    "    x = \"Country\",\n",
    "    y = \"Deaths\",\n",
    "    title= \"10 Countries most affected by Covid-19\", #\n",
    "    color_discrete_sequence=[\"blue\"], \n",
    "    height=400,\n",
    "    width=800\n",
    ")"
   ]
  },
  {
   "cell_type": "markdown",
   "metadata": {},
   "source": [
    "It is evident that among the most affected countries the US, Spain, Italy, France and the UK are the countries that are worst hit by the pandemic in terms of deaths. Although it is almost the same countries as when we looked at the number of confirmed infected individuals, the order is different. The countries with most deaths caused by Covid-19 are Italy, Spain, the US, France and the UK. "
   ]
  },
  {
   "cell_type": "markdown",
   "metadata": {},
   "source": [
    "# Visualisation of the spread of Covid-19 across time #"
   ]
  },
  {
   "cell_type": "markdown",
   "metadata": {},
   "source": [
    "** In order to gain an understanding of how the virus has spread globally over time, we now turn to a time series analysis. **"
   ]
  },
  {
   "cell_type": "markdown",
   "metadata": {},
   "source": [
    "The data is converted to fit the plot we want to create. We import a package which allows us to alter the format of the dates given in the date to month/day/year format. A list is created for the timeline values needed for the graph, which are then appended to the date format in the DataFrames. Then the timeline fits the length of the x-axis in the graph. This is done for the three DataFrames confirmed, death and recovered. "
   ]
  },
  {
   "cell_type": "code",
   "execution_count": 12,
   "metadata": {},
   "outputs": [],
   "source": [
    "#Confirmed \n",
    "timeline = ['1/22/20', '1/23/20',\n",
    "       '1/24/20', '1/25/20', '1/26/20', '1/27/20', '1/28/20', '1/29/20',\n",
    "       '1/30/20', '1/31/20', '2/1/20', '2/2/20', '2/3/20', '2/4/20', '2/5/20',\n",
    "       '2/6/20', '2/7/20', '2/8/20', '2/9/20', '2/10/20', '2/11/20', '2/12/20',\n",
    "       '2/13/20', '2/14/20', '2/15/20', '2/16/20', '2/17/20', '2/18/20',\n",
    "       '2/19/20', '2/20/20', '2/21/20', '2/22/20', '2/23/20', '2/24/20',\n",
    "       '2/25/20', '2/26/20', '2/27/20', '2/28/20', '2/29/20', '3/1/20',\n",
    "       '3/2/20', '3/3/20', '3/4/20', '3/5/20', '3/6/20', '3/7/20', '3/8/20', \n",
    "       '3/9/20', '3/10/20', '3/11/20', '3/12/20', '3/13/20', '3/14/20',\n",
    "       '3/15/20', '3/16/20', '3/17/20', '3/18/20', '3/19/20', '3/20/20',\n",
    "       '3/21/20', '3/22/20', '3/23/20', '3/24/20', '3/25/20', '3/26/20',\n",
    "       '3/27/20', '3/28/20', '3/29/20', '3/30/20', '3/31/20', '4/1/20',\n",
    "       '4/2/20', '4/3/20', '4/4/20', '4/5/20'] \n",
    "#list of values to append equal to length of x axis plot\n",
    "time = [];value = [];country=[]\n",
    "col_value = list(confirmed.columns)\n",
    "for i in timeline:\n",
    "    time.append(datetime.strptime(i, '%m/%d/%y'))\n",
    "    value.append(confirmed[i].sum())\n",
    "    \n",
    "\n",
    "new_confirmed = pd.DataFrame({'Timeline':time,'Covid-19 impact':value})\n",
    "#change to date time formatdatetime_object = datetime.strptime(datetime_str, '%m/%d/%y %H:%M:%S')"
   ]
  },
  {
   "cell_type": "code",
   "execution_count": 13,
   "metadata": {},
   "outputs": [],
   "source": [
    "#Deaths\n",
    "timeline = ['1/22/20', '1/23/20',\n",
    "       '1/24/20', '1/25/20', '1/26/20', '1/27/20', '1/28/20', '1/29/20',\n",
    "       '1/30/20', '1/31/20', '2/1/20', '2/2/20', '2/3/20', '2/4/20', '2/5/20',\n",
    "       '2/6/20', '2/7/20', '2/8/20', '2/9/20', '2/10/20', '2/11/20', '2/12/20',\n",
    "       '2/13/20', '2/14/20', '2/15/20', '2/16/20', '2/17/20', '2/18/20',\n",
    "       '2/19/20', '2/20/20', '2/21/20', '2/22/20', '2/23/20', '2/24/20',\n",
    "       '2/25/20', '2/26/20', '2/27/20', '2/28/20', '2/29/20', '3/1/20',\n",
    "       '3/2/20', '3/3/20', '3/4/20', '3/5/20', '3/6/20', '3/7/20', '3/8/20', \n",
    "       '3/9/20', '3/10/20', '3/11/20', '3/12/20', '3/13/20', '3/14/20',\n",
    "       '3/15/20', '3/16/20', '3/17/20', '3/18/20', '3/19/20', '3/20/20',\n",
    "       '3/21/20', '3/22/20', '3/23/20', '3/24/20', '3/25/20', '3/26/20',\n",
    "       '3/27/20', '3/28/20', '3/29/20', '3/30/20', '3/31/20', '4/1/20',\n",
    "       '4/2/20', '4/3/20', '4/4/20', '4/5/20'] \n",
    "#list of values to append equal to length of x axis for plot\n",
    "time = [];value = [];country=[]\n",
    "col_value = list(death.columns)\n",
    "for i in timeline:\n",
    "    time.append(datetime.strptime(i, '%m/%d/%y'))\n",
    "    value.append(death[i].sum())\n",
    "    \n",
    "\n",
    "new_death = pd.DataFrame({'Timeline':time,'Covid-19 impact':value})\n",
    "#change to date time formatdatetime_object = datetime.strptime(datetime_str, '%m/%d/%y %H:%M:%S')"
   ]
  },
  {
   "cell_type": "code",
   "execution_count": 14,
   "metadata": {},
   "outputs": [],
   "source": [
    "#Recovered\n",
    "timeline = ['1/22/20', '1/23/20',\n",
    "       '1/24/20', '1/25/20', '1/26/20', '1/27/20', '1/28/20', '1/29/20',\n",
    "       '1/30/20', '1/31/20', '2/1/20', '2/2/20', '2/3/20', '2/4/20', '2/5/20',\n",
    "       '2/6/20', '2/7/20', '2/8/20', '2/9/20', '2/10/20', '2/11/20', '2/12/20',\n",
    "       '2/13/20', '2/14/20', '2/15/20', '2/16/20', '2/17/20', '2/18/20',\n",
    "       '2/19/20', '2/20/20', '2/21/20', '2/22/20', '2/23/20', '2/24/20',\n",
    "       '2/25/20', '2/26/20', '2/27/20', '2/28/20', '2/29/20', '3/1/20',\n",
    "       '3/2/20', '3/3/20', '3/4/20', '3/5/20', '3/6/20', '3/7/20', '3/8/20', \n",
    "       '3/9/20', '3/10/20', '3/11/20', '3/12/20', '3/13/20', '3/14/20',\n",
    "       '3/15/20', '3/16/20', '3/17/20', '3/18/20', '3/19/20', '3/20/20',\n",
    "       '3/21/20', '3/22/20', '3/23/20', '3/24/20', '3/25/20', '3/26/20',\n",
    "       '3/27/20', '3/28/20', '3/29/20', '3/30/20', '3/31/20', '4/1/20',\n",
    "       '4/2/20', '4/3/20', '4/4/20', '4/5/20'] \n",
    "#list of values to append equal to length of x axis for plot\n",
    "time = [];value = [];country=[]\n",
    "col_value = list(recovered.columns)\n",
    "for i in timeline:\n",
    "    time.append(datetime.strptime(i, '%m/%d/%y'))\n",
    "    value.append(recovered[i].sum())\n",
    "    \n",
    "\n",
    "new_recovered = pd.DataFrame({'Timeline':time,'Covid-19 impact':value})\n",
    "#change to date time formatdatetime_object = datetime.strptime(datetime_str, '%m/%d/%y %H:%M:%S')"
   ]
  },
  {
   "cell_type": "markdown",
   "metadata": {},
   "source": [
    "** We create a plot visualising the development in the three variables infected, deaths and recovered.**"
   ]
  },
  {
   "cell_type": "code",
   "execution_count": 16,
   "metadata": {},
   "outputs": [
    {
     "output_type": "display_data",
     "data": {
      "application/vnd.plotly.v1+json": {
       "config": {
        "plotlyServerURL": "https://plot.ly"
       },
       "data": [
        {
         "name": "Infected",
         "type": "scatter",
         "x": [
          "2020-01-22T00:00:00",
          "2020-01-23T00:00:00",
          "2020-01-24T00:00:00",
          "2020-01-25T00:00:00",
          "2020-01-26T00:00:00",
          "2020-01-27T00:00:00",
          "2020-01-28T00:00:00",
          "2020-01-29T00:00:00",
          "2020-01-30T00:00:00",
          "2020-01-31T00:00:00",
          "2020-02-01T00:00:00",
          "2020-02-02T00:00:00",
          "2020-02-03T00:00:00",
          "2020-02-04T00:00:00",
          "2020-02-05T00:00:00",
          "2020-02-06T00:00:00",
          "2020-02-07T00:00:00",
          "2020-02-08T00:00:00",
          "2020-02-09T00:00:00",
          "2020-02-10T00:00:00",
          "2020-02-11T00:00:00",
          "2020-02-12T00:00:00",
          "2020-02-13T00:00:00",
          "2020-02-14T00:00:00",
          "2020-02-15T00:00:00",
          "2020-02-16T00:00:00",
          "2020-02-17T00:00:00",
          "2020-02-18T00:00:00",
          "2020-02-19T00:00:00",
          "2020-02-20T00:00:00",
          "2020-02-21T00:00:00",
          "2020-02-22T00:00:00",
          "2020-02-23T00:00:00",
          "2020-02-24T00:00:00",
          "2020-02-25T00:00:00",
          "2020-02-26T00:00:00",
          "2020-02-27T00:00:00",
          "2020-02-28T00:00:00",
          "2020-02-29T00:00:00",
          "2020-03-01T00:00:00",
          "2020-03-02T00:00:00",
          "2020-03-03T00:00:00",
          "2020-03-04T00:00:00",
          "2020-03-05T00:00:00",
          "2020-03-06T00:00:00",
          "2020-03-07T00:00:00",
          "2020-03-08T00:00:00",
          "2020-03-09T00:00:00",
          "2020-03-10T00:00:00",
          "2020-03-11T00:00:00",
          "2020-03-12T00:00:00",
          "2020-03-13T00:00:00",
          "2020-03-14T00:00:00",
          "2020-03-15T00:00:00",
          "2020-03-16T00:00:00",
          "2020-03-17T00:00:00",
          "2020-03-18T00:00:00",
          "2020-03-19T00:00:00",
          "2020-03-20T00:00:00",
          "2020-03-21T00:00:00",
          "2020-03-22T00:00:00",
          "2020-03-23T00:00:00",
          "2020-03-24T00:00:00",
          "2020-03-25T00:00:00",
          "2020-03-26T00:00:00",
          "2020-03-27T00:00:00",
          "2020-03-28T00:00:00",
          "2020-03-29T00:00:00",
          "2020-03-30T00:00:00",
          "2020-03-31T00:00:00",
          "2020-04-01T00:00:00",
          "2020-04-02T00:00:00",
          "2020-04-03T00:00:00",
          "2020-04-04T00:00:00",
          "2020-04-05T00:00:00"
         ],
         "y": [
          555,
          654,
          941,
          1434,
          2118,
          2927,
          5578,
          6166,
          8234,
          9927,
          12038,
          16787,
          19881,
          23892,
          27635,
          30794,
          34391,
          37120,
          40150,
          42762,
          44802,
          45221,
          60368,
          66885,
          69030,
          71224,
          73258,
          75136,
          75639,
          76197,
          76819,
          78572,
          78958,
          79561,
          80406,
          81388,
          82746,
          84112,
          86011,
          88369,
          90306,
          92840,
          95120,
          97886,
          101801,
          105847,
          109821,
          113590,
          118620,
          125875,
          128352,
          145205,
          156101,
          167454,
          181574,
          197102,
          214821,
          242500,
          272035,
          304396,
          336953,
          378235,
          418045,
          467653,
          529591,
          593291,
          660706,
          720117,
          782365,
          857487,
          932605,
          1013157,
          1095917,
          1197405,
          1272115
         ]
        },
        {
         "name": "Deaths",
         "type": "scatter",
         "x": [
          "2020-01-22T00:00:00",
          "2020-01-23T00:00:00",
          "2020-01-24T00:00:00",
          "2020-01-25T00:00:00",
          "2020-01-26T00:00:00",
          "2020-01-27T00:00:00",
          "2020-01-28T00:00:00",
          "2020-01-29T00:00:00",
          "2020-01-30T00:00:00",
          "2020-01-31T00:00:00",
          "2020-02-01T00:00:00",
          "2020-02-02T00:00:00",
          "2020-02-03T00:00:00",
          "2020-02-04T00:00:00",
          "2020-02-05T00:00:00",
          "2020-02-06T00:00:00",
          "2020-02-07T00:00:00",
          "2020-02-08T00:00:00",
          "2020-02-09T00:00:00",
          "2020-02-10T00:00:00",
          "2020-02-11T00:00:00",
          "2020-02-12T00:00:00",
          "2020-02-13T00:00:00",
          "2020-02-14T00:00:00",
          "2020-02-15T00:00:00",
          "2020-02-16T00:00:00",
          "2020-02-17T00:00:00",
          "2020-02-18T00:00:00",
          "2020-02-19T00:00:00",
          "2020-02-20T00:00:00",
          "2020-02-21T00:00:00",
          "2020-02-22T00:00:00",
          "2020-02-23T00:00:00",
          "2020-02-24T00:00:00",
          "2020-02-25T00:00:00",
          "2020-02-26T00:00:00",
          "2020-02-27T00:00:00",
          "2020-02-28T00:00:00",
          "2020-02-29T00:00:00",
          "2020-03-01T00:00:00",
          "2020-03-02T00:00:00",
          "2020-03-03T00:00:00",
          "2020-03-04T00:00:00",
          "2020-03-05T00:00:00",
          "2020-03-06T00:00:00",
          "2020-03-07T00:00:00",
          "2020-03-08T00:00:00",
          "2020-03-09T00:00:00",
          "2020-03-10T00:00:00",
          "2020-03-11T00:00:00",
          "2020-03-12T00:00:00",
          "2020-03-13T00:00:00",
          "2020-03-14T00:00:00",
          "2020-03-15T00:00:00",
          "2020-03-16T00:00:00",
          "2020-03-17T00:00:00",
          "2020-03-18T00:00:00",
          "2020-03-19T00:00:00",
          "2020-03-20T00:00:00",
          "2020-03-21T00:00:00",
          "2020-03-22T00:00:00",
          "2020-03-23T00:00:00",
          "2020-03-24T00:00:00",
          "2020-03-25T00:00:00",
          "2020-03-26T00:00:00",
          "2020-03-27T00:00:00",
          "2020-03-28T00:00:00",
          "2020-03-29T00:00:00",
          "2020-03-30T00:00:00",
          "2020-03-31T00:00:00",
          "2020-04-01T00:00:00",
          "2020-04-02T00:00:00",
          "2020-04-03T00:00:00",
          "2020-04-04T00:00:00",
          "2020-04-05T00:00:00"
         ],
         "y": [
          17,
          18,
          26,
          42,
          56,
          82,
          131,
          133,
          171,
          213,
          259,
          362,
          426,
          492,
          564,
          634,
          719,
          806,
          906,
          1013,
          1113,
          1118,
          1371,
          1523,
          1666,
          1770,
          1868,
          2007,
          2122,
          2247,
          2251,
          2458,
          2469,
          2629,
          2708,
          2770,
          2814,
          2872,
          2941,
          2996,
          3085,
          3160,
          3254,
          3348,
          3460,
          3558,
          3802,
          3988,
          4262,
          4615,
          4720,
          5404,
          5819,
          6440,
          7126,
          7905,
          8733,
          9867,
          11299,
          12973,
          14651,
          16505,
          18625,
          21181,
          23970,
          27198,
          30652,
          33925,
          37582,
          42107,
          46809,
          52983,
          58787,
          64606,
          69374
         ]
        },
        {
         "name": "Recovery",
         "type": "scatter",
         "x": [
          "2020-01-22T00:00:00",
          "2020-01-23T00:00:00",
          "2020-01-24T00:00:00",
          "2020-01-25T00:00:00",
          "2020-01-26T00:00:00",
          "2020-01-27T00:00:00",
          "2020-01-28T00:00:00",
          "2020-01-29T00:00:00",
          "2020-01-30T00:00:00",
          "2020-01-31T00:00:00",
          "2020-02-01T00:00:00",
          "2020-02-02T00:00:00",
          "2020-02-03T00:00:00",
          "2020-02-04T00:00:00",
          "2020-02-05T00:00:00",
          "2020-02-06T00:00:00",
          "2020-02-07T00:00:00",
          "2020-02-08T00:00:00",
          "2020-02-09T00:00:00",
          "2020-02-10T00:00:00",
          "2020-02-11T00:00:00",
          "2020-02-12T00:00:00",
          "2020-02-13T00:00:00",
          "2020-02-14T00:00:00",
          "2020-02-15T00:00:00",
          "2020-02-16T00:00:00",
          "2020-02-17T00:00:00",
          "2020-02-18T00:00:00",
          "2020-02-19T00:00:00",
          "2020-02-20T00:00:00",
          "2020-02-21T00:00:00",
          "2020-02-22T00:00:00",
          "2020-02-23T00:00:00",
          "2020-02-24T00:00:00",
          "2020-02-25T00:00:00",
          "2020-02-26T00:00:00",
          "2020-02-27T00:00:00",
          "2020-02-28T00:00:00",
          "2020-02-29T00:00:00",
          "2020-03-01T00:00:00",
          "2020-03-02T00:00:00",
          "2020-03-03T00:00:00",
          "2020-03-04T00:00:00",
          "2020-03-05T00:00:00",
          "2020-03-06T00:00:00",
          "2020-03-07T00:00:00",
          "2020-03-08T00:00:00",
          "2020-03-09T00:00:00",
          "2020-03-10T00:00:00",
          "2020-03-11T00:00:00",
          "2020-03-12T00:00:00",
          "2020-03-13T00:00:00",
          "2020-03-14T00:00:00",
          "2020-03-15T00:00:00",
          "2020-03-16T00:00:00",
          "2020-03-17T00:00:00",
          "2020-03-18T00:00:00",
          "2020-03-19T00:00:00",
          "2020-03-20T00:00:00",
          "2020-03-21T00:00:00",
          "2020-03-22T00:00:00",
          "2020-03-23T00:00:00",
          "2020-03-24T00:00:00",
          "2020-03-25T00:00:00",
          "2020-03-26T00:00:00",
          "2020-03-27T00:00:00",
          "2020-03-28T00:00:00",
          "2020-03-29T00:00:00",
          "2020-03-30T00:00:00",
          "2020-03-31T00:00:00",
          "2020-04-01T00:00:00",
          "2020-04-02T00:00:00",
          "2020-04-03T00:00:00",
          "2020-04-04T00:00:00",
          "2020-04-05T00:00:00"
         ],
         "y": [
          28,
          30,
          36,
          39,
          52,
          61,
          107,
          126,
          143,
          222,
          284,
          472,
          623,
          852,
          1124,
          1487,
          2011,
          2616,
          3244,
          3946,
          4683,
          5150,
          6295,
          8058,
          9395,
          10865,
          12583,
          14352,
          16121,
          18177,
          18890,
          22886,
          23394,
          25227,
          27905,
          30384,
          33277,
          36711,
          39782,
          42716,
          45602,
          48228,
          51170,
          53796,
          55865,
          58358,
          60694,
          62494,
          64404,
          67003,
          68324,
          70251,
          72624,
          76034,
          78088,
          80840,
          83312,
          84975,
          87420,
          91692,
          97899,
          98351,
          108000,
          113787,
          122150,
          130915,
          139415,
          149082,
          164566,
          178034,
          193177,
          210263,
          225796,
          246152,
          260012
         ]
        }
       ],
       "layout": {
        "height": 500,
        "template": {
         "data": {
          "bar": [
           {
            "error_x": {
             "color": "#2a3f5f"
            },
            "error_y": {
             "color": "#2a3f5f"
            },
            "marker": {
             "line": {
              "color": "#E5ECF6",
              "width": 0.5
             }
            },
            "type": "bar"
           }
          ],
          "barpolar": [
           {
            "marker": {
             "line": {
              "color": "#E5ECF6",
              "width": 0.5
             }
            },
            "type": "barpolar"
           }
          ],
          "carpet": [
           {
            "aaxis": {
             "endlinecolor": "#2a3f5f",
             "gridcolor": "white",
             "linecolor": "white",
             "minorgridcolor": "white",
             "startlinecolor": "#2a3f5f"
            },
            "baxis": {
             "endlinecolor": "#2a3f5f",
             "gridcolor": "white",
             "linecolor": "white",
             "minorgridcolor": "white",
             "startlinecolor": "#2a3f5f"
            },
            "type": "carpet"
           }
          ],
          "choropleth": [
           {
            "colorbar": {
             "outlinewidth": 0,
             "ticks": ""
            },
            "type": "choropleth"
           }
          ],
          "contour": [
           {
            "colorbar": {
             "outlinewidth": 0,
             "ticks": ""
            },
            "colorscale": [
             [
              0,
              "#0d0887"
             ],
             [
              0.1111111111111111,
              "#46039f"
             ],
             [
              0.2222222222222222,
              "#7201a8"
             ],
             [
              0.3333333333333333,
              "#9c179e"
             ],
             [
              0.4444444444444444,
              "#bd3786"
             ],
             [
              0.5555555555555556,
              "#d8576b"
             ],
             [
              0.6666666666666666,
              "#ed7953"
             ],
             [
              0.7777777777777778,
              "#fb9f3a"
             ],
             [
              0.8888888888888888,
              "#fdca26"
             ],
             [
              1,
              "#f0f921"
             ]
            ],
            "type": "contour"
           }
          ],
          "contourcarpet": [
           {
            "colorbar": {
             "outlinewidth": 0,
             "ticks": ""
            },
            "type": "contourcarpet"
           }
          ],
          "heatmap": [
           {
            "colorbar": {
             "outlinewidth": 0,
             "ticks": ""
            },
            "colorscale": [
             [
              0,
              "#0d0887"
             ],
             [
              0.1111111111111111,
              "#46039f"
             ],
             [
              0.2222222222222222,
              "#7201a8"
             ],
             [
              0.3333333333333333,
              "#9c179e"
             ],
             [
              0.4444444444444444,
              "#bd3786"
             ],
             [
              0.5555555555555556,
              "#d8576b"
             ],
             [
              0.6666666666666666,
              "#ed7953"
             ],
             [
              0.7777777777777778,
              "#fb9f3a"
             ],
             [
              0.8888888888888888,
              "#fdca26"
             ],
             [
              1,
              "#f0f921"
             ]
            ],
            "type": "heatmap"
           }
          ],
          "heatmapgl": [
           {
            "colorbar": {
             "outlinewidth": 0,
             "ticks": ""
            },
            "colorscale": [
             [
              0,
              "#0d0887"
             ],
             [
              0.1111111111111111,
              "#46039f"
             ],
             [
              0.2222222222222222,
              "#7201a8"
             ],
             [
              0.3333333333333333,
              "#9c179e"
             ],
             [
              0.4444444444444444,
              "#bd3786"
             ],
             [
              0.5555555555555556,
              "#d8576b"
             ],
             [
              0.6666666666666666,
              "#ed7953"
             ],
             [
              0.7777777777777778,
              "#fb9f3a"
             ],
             [
              0.8888888888888888,
              "#fdca26"
             ],
             [
              1,
              "#f0f921"
             ]
            ],
            "type": "heatmapgl"
           }
          ],
          "histogram": [
           {
            "marker": {
             "colorbar": {
              "outlinewidth": 0,
              "ticks": ""
             }
            },
            "type": "histogram"
           }
          ],
          "histogram2d": [
           {
            "colorbar": {
             "outlinewidth": 0,
             "ticks": ""
            },
            "colorscale": [
             [
              0,
              "#0d0887"
             ],
             [
              0.1111111111111111,
              "#46039f"
             ],
             [
              0.2222222222222222,
              "#7201a8"
             ],
             [
              0.3333333333333333,
              "#9c179e"
             ],
             [
              0.4444444444444444,
              "#bd3786"
             ],
             [
              0.5555555555555556,
              "#d8576b"
             ],
             [
              0.6666666666666666,
              "#ed7953"
             ],
             [
              0.7777777777777778,
              "#fb9f3a"
             ],
             [
              0.8888888888888888,
              "#fdca26"
             ],
             [
              1,
              "#f0f921"
             ]
            ],
            "type": "histogram2d"
           }
          ],
          "histogram2dcontour": [
           {
            "colorbar": {
             "outlinewidth": 0,
             "ticks": ""
            },
            "colorscale": [
             [
              0,
              "#0d0887"
             ],
             [
              0.1111111111111111,
              "#46039f"
             ],
             [
              0.2222222222222222,
              "#7201a8"
             ],
             [
              0.3333333333333333,
              "#9c179e"
             ],
             [
              0.4444444444444444,
              "#bd3786"
             ],
             [
              0.5555555555555556,
              "#d8576b"
             ],
             [
              0.6666666666666666,
              "#ed7953"
             ],
             [
              0.7777777777777778,
              "#fb9f3a"
             ],
             [
              0.8888888888888888,
              "#fdca26"
             ],
             [
              1,
              "#f0f921"
             ]
            ],
            "type": "histogram2dcontour"
           }
          ],
          "mesh3d": [
           {
            "colorbar": {
             "outlinewidth": 0,
             "ticks": ""
            },
            "type": "mesh3d"
           }
          ],
          "parcoords": [
           {
            "line": {
             "colorbar": {
              "outlinewidth": 0,
              "ticks": ""
             }
            },
            "type": "parcoords"
           }
          ],
          "pie": [
           {
            "automargin": true,
            "type": "pie"
           }
          ],
          "scatter": [
           {
            "marker": {
             "colorbar": {
              "outlinewidth": 0,
              "ticks": ""
             }
            },
            "type": "scatter"
           }
          ],
          "scatter3d": [
           {
            "line": {
             "colorbar": {
              "outlinewidth": 0,
              "ticks": ""
             }
            },
            "marker": {
             "colorbar": {
              "outlinewidth": 0,
              "ticks": ""
             }
            },
            "type": "scatter3d"
           }
          ],
          "scattercarpet": [
           {
            "marker": {
             "colorbar": {
              "outlinewidth": 0,
              "ticks": ""
             }
            },
            "type": "scattercarpet"
           }
          ],
          "scattergeo": [
           {
            "marker": {
             "colorbar": {
              "outlinewidth": 0,
              "ticks": ""
             }
            },
            "type": "scattergeo"
           }
          ],
          "scattergl": [
           {
            "marker": {
             "colorbar": {
              "outlinewidth": 0,
              "ticks": ""
             }
            },
            "type": "scattergl"
           }
          ],
          "scattermapbox": [
           {
            "marker": {
             "colorbar": {
              "outlinewidth": 0,
              "ticks": ""
             }
            },
            "type": "scattermapbox"
           }
          ],
          "scatterpolar": [
           {
            "marker": {
             "colorbar": {
              "outlinewidth": 0,
              "ticks": ""
             }
            },
            "type": "scatterpolar"
           }
          ],
          "scatterpolargl": [
           {
            "marker": {
             "colorbar": {
              "outlinewidth": 0,
              "ticks": ""
             }
            },
            "type": "scatterpolargl"
           }
          ],
          "scatterternary": [
           {
            "marker": {
             "colorbar": {
              "outlinewidth": 0,
              "ticks": ""
             }
            },
            "type": "scatterternary"
           }
          ],
          "surface": [
           {
            "colorbar": {
             "outlinewidth": 0,
             "ticks": ""
            },
            "colorscale": [
             [
              0,
              "#0d0887"
             ],
             [
              0.1111111111111111,
              "#46039f"
             ],
             [
              0.2222222222222222,
              "#7201a8"
             ],
             [
              0.3333333333333333,
              "#9c179e"
             ],
             [
              0.4444444444444444,
              "#bd3786"
             ],
             [
              0.5555555555555556,
              "#d8576b"
             ],
             [
              0.6666666666666666,
              "#ed7953"
             ],
             [
              0.7777777777777778,
              "#fb9f3a"
             ],
             [
              0.8888888888888888,
              "#fdca26"
             ],
             [
              1,
              "#f0f921"
             ]
            ],
            "type": "surface"
           }
          ],
          "table": [
           {
            "cells": {
             "fill": {
              "color": "#EBF0F8"
             },
             "line": {
              "color": "white"
             }
            },
            "header": {
             "fill": {
              "color": "#C8D4E3"
             },
             "line": {
              "color": "white"
             }
            },
            "type": "table"
           }
          ]
         },
         "layout": {
          "annotationdefaults": {
           "arrowcolor": "#2a3f5f",
           "arrowhead": 0,
           "arrowwidth": 1
          },
          "coloraxis": {
           "colorbar": {
            "outlinewidth": 0,
            "ticks": ""
           }
          },
          "colorscale": {
           "diverging": [
            [
             0,
             "#8e0152"
            ],
            [
             0.1,
             "#c51b7d"
            ],
            [
             0.2,
             "#de77ae"
            ],
            [
             0.3,
             "#f1b6da"
            ],
            [
             0.4,
             "#fde0ef"
            ],
            [
             0.5,
             "#f7f7f7"
            ],
            [
             0.6,
             "#e6f5d0"
            ],
            [
             0.7,
             "#b8e186"
            ],
            [
             0.8,
             "#7fbc41"
            ],
            [
             0.9,
             "#4d9221"
            ],
            [
             1,
             "#276419"
            ]
           ],
           "sequential": [
            [
             0,
             "#0d0887"
            ],
            [
             0.1111111111111111,
             "#46039f"
            ],
            [
             0.2222222222222222,
             "#7201a8"
            ],
            [
             0.3333333333333333,
             "#9c179e"
            ],
            [
             0.4444444444444444,
             "#bd3786"
            ],
            [
             0.5555555555555556,
             "#d8576b"
            ],
            [
             0.6666666666666666,
             "#ed7953"
            ],
            [
             0.7777777777777778,
             "#fb9f3a"
            ],
            [
             0.8888888888888888,
             "#fdca26"
            ],
            [
             1,
             "#f0f921"
            ]
           ],
           "sequentialminus": [
            [
             0,
             "#0d0887"
            ],
            [
             0.1111111111111111,
             "#46039f"
            ],
            [
             0.2222222222222222,
             "#7201a8"
            ],
            [
             0.3333333333333333,
             "#9c179e"
            ],
            [
             0.4444444444444444,
             "#bd3786"
            ],
            [
             0.5555555555555556,
             "#d8576b"
            ],
            [
             0.6666666666666666,
             "#ed7953"
            ],
            [
             0.7777777777777778,
             "#fb9f3a"
            ],
            [
             0.8888888888888888,
             "#fdca26"
            ],
            [
             1,
             "#f0f921"
            ]
           ]
          },
          "colorway": [
           "#636efa",
           "#EF553B",
           "#00cc96",
           "#ab63fa",
           "#FFA15A",
           "#19d3f3",
           "#FF6692",
           "#B6E880",
           "#FF97FF",
           "#FECB52"
          ],
          "font": {
           "color": "#2a3f5f"
          },
          "geo": {
           "bgcolor": "white",
           "lakecolor": "white",
           "landcolor": "#E5ECF6",
           "showlakes": true,
           "showland": true,
           "subunitcolor": "white"
          },
          "hoverlabel": {
           "align": "left"
          },
          "hovermode": "closest",
          "mapbox": {
           "style": "light"
          },
          "paper_bgcolor": "white",
          "plot_bgcolor": "#E5ECF6",
          "polar": {
           "angularaxis": {
            "gridcolor": "white",
            "linecolor": "white",
            "ticks": ""
           },
           "bgcolor": "#E5ECF6",
           "radialaxis": {
            "gridcolor": "white",
            "linecolor": "white",
            "ticks": ""
           }
          },
          "scene": {
           "xaxis": {
            "backgroundcolor": "#E5ECF6",
            "gridcolor": "white",
            "gridwidth": 2,
            "linecolor": "white",
            "showbackground": true,
            "ticks": "",
            "zerolinecolor": "white"
           },
           "yaxis": {
            "backgroundcolor": "#E5ECF6",
            "gridcolor": "white",
            "gridwidth": 2,
            "linecolor": "white",
            "showbackground": true,
            "ticks": "",
            "zerolinecolor": "white"
           },
           "zaxis": {
            "backgroundcolor": "#E5ECF6",
            "gridcolor": "white",
            "gridwidth": 2,
            "linecolor": "white",
            "showbackground": true,
            "ticks": "",
            "zerolinecolor": "white"
           }
          },
          "shapedefaults": {
           "line": {
            "color": "#2a3f5f"
           }
          },
          "ternary": {
           "aaxis": {
            "gridcolor": "white",
            "linecolor": "white",
            "ticks": ""
           },
           "baxis": {
            "gridcolor": "white",
            "linecolor": "white",
            "ticks": ""
           },
           "bgcolor": "#E5ECF6",
           "caxis": {
            "gridcolor": "white",
            "linecolor": "white",
            "ticks": ""
           }
          },
          "title": {
           "x": 0.05
          },
          "xaxis": {
           "automargin": true,
           "gridcolor": "white",
           "linecolor": "white",
           "ticks": "",
           "title": {
            "standoff": 15
           },
           "zerolinecolor": "white",
           "zerolinewidth": 2
          },
          "yaxis": {
           "automargin": true,
           "gridcolor": "white",
           "linecolor": "white",
           "ticks": "",
           "title": {
            "standoff": 15
           },
           "zerolinecolor": "white",
           "zerolinewidth": 2
          }
         }
        },
        "title": {
         "text": "Timeline of Covid-19"
        },
        "width": 800,
        "xaxis": {
         "anchor": "y",
         "domain": [
          0,
          1
         ],
         "title": {
          "text": "Timeline"
         }
        },
        "yaxis": {
         "anchor": "x",
         "domain": [
          0,
          1
         ]
        }
       }
      }
     },
     "metadata": {}
    }
   ],
   "source": [
    "fig = make_subplots()\n",
    "\n",
    "fig.add_trace(\n",
    "    go.Scatter(x=new_confirmed[\"Timeline\"], y=new_confirmed[\"Covid-19 impact\"], name = 'Infected'))\n",
    "\n",
    "fig.add_trace(\n",
    "    go.Scatter(x=new_death[\"Timeline\"], y=new_death[\"Covid-19 impact\"], name = 'Deaths'))\n",
    "\n",
    "fig.add_trace(\n",
    "    go.Scatter(x=new_recovered[\"Timeline\"], y=new_recovered[\"Covid-19 impact\"], name = 'Recovery'))\n",
    "\n",
    "fig.update_xaxes(title_text=\"Timeline\")\n",
    "\n",
    "\n",
    "fig.update_layout(height=500, width=800, title_text=\"Timeline of Covid-19\")\n",
    "fig.show()"
   ]
  },
  {
   "cell_type": "markdown",
   "metadata": {},
   "source": [
    "We see that the number of infected individuals globally appears to be exponential. The number of rerovered individuals is slowly increasing and at an even slower pace, the number of deaths are increasing."
   ]
  },
  {
   "cell_type": "markdown",
   "metadata": {},
   "source": [
    "We deem it relevant to plot the above logarithmically too as it can make the spread of the virus easier to discern. That is done below: "
   ]
  },
  {
   "cell_type": "code",
   "execution_count": 17,
   "metadata": {},
   "outputs": [
    {
     "output_type": "display_data",
     "data": {
      "application/vnd.plotly.v1+json": {
       "config": {
        "plotlyServerURL": "https://plot.ly"
       },
       "data": [
        {
         "name": "Infected",
         "type": "scatter",
         "x": [
          "2020-01-22T00:00:00",
          "2020-01-23T00:00:00",
          "2020-01-24T00:00:00",
          "2020-01-25T00:00:00",
          "2020-01-26T00:00:00",
          "2020-01-27T00:00:00",
          "2020-01-28T00:00:00",
          "2020-01-29T00:00:00",
          "2020-01-30T00:00:00",
          "2020-01-31T00:00:00",
          "2020-02-01T00:00:00",
          "2020-02-02T00:00:00",
          "2020-02-03T00:00:00",
          "2020-02-04T00:00:00",
          "2020-02-05T00:00:00",
          "2020-02-06T00:00:00",
          "2020-02-07T00:00:00",
          "2020-02-08T00:00:00",
          "2020-02-09T00:00:00",
          "2020-02-10T00:00:00",
          "2020-02-11T00:00:00",
          "2020-02-12T00:00:00",
          "2020-02-13T00:00:00",
          "2020-02-14T00:00:00",
          "2020-02-15T00:00:00",
          "2020-02-16T00:00:00",
          "2020-02-17T00:00:00",
          "2020-02-18T00:00:00",
          "2020-02-19T00:00:00",
          "2020-02-20T00:00:00",
          "2020-02-21T00:00:00",
          "2020-02-22T00:00:00",
          "2020-02-23T00:00:00",
          "2020-02-24T00:00:00",
          "2020-02-25T00:00:00",
          "2020-02-26T00:00:00",
          "2020-02-27T00:00:00",
          "2020-02-28T00:00:00",
          "2020-02-29T00:00:00",
          "2020-03-01T00:00:00",
          "2020-03-02T00:00:00",
          "2020-03-03T00:00:00",
          "2020-03-04T00:00:00",
          "2020-03-05T00:00:00",
          "2020-03-06T00:00:00",
          "2020-03-07T00:00:00",
          "2020-03-08T00:00:00",
          "2020-03-09T00:00:00",
          "2020-03-10T00:00:00",
          "2020-03-11T00:00:00",
          "2020-03-12T00:00:00",
          "2020-03-13T00:00:00",
          "2020-03-14T00:00:00",
          "2020-03-15T00:00:00",
          "2020-03-16T00:00:00",
          "2020-03-17T00:00:00",
          "2020-03-18T00:00:00",
          "2020-03-19T00:00:00",
          "2020-03-20T00:00:00",
          "2020-03-21T00:00:00",
          "2020-03-22T00:00:00",
          "2020-03-23T00:00:00",
          "2020-03-24T00:00:00",
          "2020-03-25T00:00:00",
          "2020-03-26T00:00:00",
          "2020-03-27T00:00:00",
          "2020-03-28T00:00:00",
          "2020-03-29T00:00:00",
          "2020-03-30T00:00:00",
          "2020-03-31T00:00:00",
          "2020-04-01T00:00:00",
          "2020-04-02T00:00:00",
          "2020-04-03T00:00:00",
          "2020-04-04T00:00:00",
          "2020-04-05T00:00:00"
         ],
         "y": [
          555,
          654,
          941,
          1434,
          2118,
          2927,
          5578,
          6166,
          8234,
          9927,
          12038,
          16787,
          19881,
          23892,
          27635,
          30794,
          34391,
          37120,
          40150,
          42762,
          44802,
          45221,
          60368,
          66885,
          69030,
          71224,
          73258,
          75136,
          75639,
          76197,
          76819,
          78572,
          78958,
          79561,
          80406,
          81388,
          82746,
          84112,
          86011,
          88369,
          90306,
          92840,
          95120,
          97886,
          101801,
          105847,
          109821,
          113590,
          118620,
          125875,
          128352,
          145205,
          156101,
          167454,
          181574,
          197102,
          214821,
          242500,
          272035,
          304396,
          336953,
          378235,
          418045,
          467653,
          529591,
          593291,
          660706,
          720117,
          782365,
          857487,
          932605,
          1013157,
          1095917,
          1197405,
          1272115
         ]
        },
        {
         "name": "Deaths",
         "type": "scatter",
         "x": [
          "2020-01-22T00:00:00",
          "2020-01-23T00:00:00",
          "2020-01-24T00:00:00",
          "2020-01-25T00:00:00",
          "2020-01-26T00:00:00",
          "2020-01-27T00:00:00",
          "2020-01-28T00:00:00",
          "2020-01-29T00:00:00",
          "2020-01-30T00:00:00",
          "2020-01-31T00:00:00",
          "2020-02-01T00:00:00",
          "2020-02-02T00:00:00",
          "2020-02-03T00:00:00",
          "2020-02-04T00:00:00",
          "2020-02-05T00:00:00",
          "2020-02-06T00:00:00",
          "2020-02-07T00:00:00",
          "2020-02-08T00:00:00",
          "2020-02-09T00:00:00",
          "2020-02-10T00:00:00",
          "2020-02-11T00:00:00",
          "2020-02-12T00:00:00",
          "2020-02-13T00:00:00",
          "2020-02-14T00:00:00",
          "2020-02-15T00:00:00",
          "2020-02-16T00:00:00",
          "2020-02-17T00:00:00",
          "2020-02-18T00:00:00",
          "2020-02-19T00:00:00",
          "2020-02-20T00:00:00",
          "2020-02-21T00:00:00",
          "2020-02-22T00:00:00",
          "2020-02-23T00:00:00",
          "2020-02-24T00:00:00",
          "2020-02-25T00:00:00",
          "2020-02-26T00:00:00",
          "2020-02-27T00:00:00",
          "2020-02-28T00:00:00",
          "2020-02-29T00:00:00",
          "2020-03-01T00:00:00",
          "2020-03-02T00:00:00",
          "2020-03-03T00:00:00",
          "2020-03-04T00:00:00",
          "2020-03-05T00:00:00",
          "2020-03-06T00:00:00",
          "2020-03-07T00:00:00",
          "2020-03-08T00:00:00",
          "2020-03-09T00:00:00",
          "2020-03-10T00:00:00",
          "2020-03-11T00:00:00",
          "2020-03-12T00:00:00",
          "2020-03-13T00:00:00",
          "2020-03-14T00:00:00",
          "2020-03-15T00:00:00",
          "2020-03-16T00:00:00",
          "2020-03-17T00:00:00",
          "2020-03-18T00:00:00",
          "2020-03-19T00:00:00",
          "2020-03-20T00:00:00",
          "2020-03-21T00:00:00",
          "2020-03-22T00:00:00",
          "2020-03-23T00:00:00",
          "2020-03-24T00:00:00",
          "2020-03-25T00:00:00",
          "2020-03-26T00:00:00",
          "2020-03-27T00:00:00",
          "2020-03-28T00:00:00",
          "2020-03-29T00:00:00",
          "2020-03-30T00:00:00",
          "2020-03-31T00:00:00",
          "2020-04-01T00:00:00",
          "2020-04-02T00:00:00",
          "2020-04-03T00:00:00",
          "2020-04-04T00:00:00",
          "2020-04-05T00:00:00"
         ],
         "y": [
          17,
          18,
          26,
          42,
          56,
          82,
          131,
          133,
          171,
          213,
          259,
          362,
          426,
          492,
          564,
          634,
          719,
          806,
          906,
          1013,
          1113,
          1118,
          1371,
          1523,
          1666,
          1770,
          1868,
          2007,
          2122,
          2247,
          2251,
          2458,
          2469,
          2629,
          2708,
          2770,
          2814,
          2872,
          2941,
          2996,
          3085,
          3160,
          3254,
          3348,
          3460,
          3558,
          3802,
          3988,
          4262,
          4615,
          4720,
          5404,
          5819,
          6440,
          7126,
          7905,
          8733,
          9867,
          11299,
          12973,
          14651,
          16505,
          18625,
          21181,
          23970,
          27198,
          30652,
          33925,
          37582,
          42107,
          46809,
          52983,
          58787,
          64606,
          69374
         ]
        },
        {
         "name": "Recovery",
         "type": "scatter",
         "x": [
          "2020-01-22T00:00:00",
          "2020-01-23T00:00:00",
          "2020-01-24T00:00:00",
          "2020-01-25T00:00:00",
          "2020-01-26T00:00:00",
          "2020-01-27T00:00:00",
          "2020-01-28T00:00:00",
          "2020-01-29T00:00:00",
          "2020-01-30T00:00:00",
          "2020-01-31T00:00:00",
          "2020-02-01T00:00:00",
          "2020-02-02T00:00:00",
          "2020-02-03T00:00:00",
          "2020-02-04T00:00:00",
          "2020-02-05T00:00:00",
          "2020-02-06T00:00:00",
          "2020-02-07T00:00:00",
          "2020-02-08T00:00:00",
          "2020-02-09T00:00:00",
          "2020-02-10T00:00:00",
          "2020-02-11T00:00:00",
          "2020-02-12T00:00:00",
          "2020-02-13T00:00:00",
          "2020-02-14T00:00:00",
          "2020-02-15T00:00:00",
          "2020-02-16T00:00:00",
          "2020-02-17T00:00:00",
          "2020-02-18T00:00:00",
          "2020-02-19T00:00:00",
          "2020-02-20T00:00:00",
          "2020-02-21T00:00:00",
          "2020-02-22T00:00:00",
          "2020-02-23T00:00:00",
          "2020-02-24T00:00:00",
          "2020-02-25T00:00:00",
          "2020-02-26T00:00:00",
          "2020-02-27T00:00:00",
          "2020-02-28T00:00:00",
          "2020-02-29T00:00:00",
          "2020-03-01T00:00:00",
          "2020-03-02T00:00:00",
          "2020-03-03T00:00:00",
          "2020-03-04T00:00:00",
          "2020-03-05T00:00:00",
          "2020-03-06T00:00:00",
          "2020-03-07T00:00:00",
          "2020-03-08T00:00:00",
          "2020-03-09T00:00:00",
          "2020-03-10T00:00:00",
          "2020-03-11T00:00:00",
          "2020-03-12T00:00:00",
          "2020-03-13T00:00:00",
          "2020-03-14T00:00:00",
          "2020-03-15T00:00:00",
          "2020-03-16T00:00:00",
          "2020-03-17T00:00:00",
          "2020-03-18T00:00:00",
          "2020-03-19T00:00:00",
          "2020-03-20T00:00:00",
          "2020-03-21T00:00:00",
          "2020-03-22T00:00:00",
          "2020-03-23T00:00:00",
          "2020-03-24T00:00:00",
          "2020-03-25T00:00:00",
          "2020-03-26T00:00:00",
          "2020-03-27T00:00:00",
          "2020-03-28T00:00:00",
          "2020-03-29T00:00:00",
          "2020-03-30T00:00:00",
          "2020-03-31T00:00:00",
          "2020-04-01T00:00:00",
          "2020-04-02T00:00:00",
          "2020-04-03T00:00:00",
          "2020-04-04T00:00:00",
          "2020-04-05T00:00:00"
         ],
         "y": [
          28,
          30,
          36,
          39,
          52,
          61,
          107,
          126,
          143,
          222,
          284,
          472,
          623,
          852,
          1124,
          1487,
          2011,
          2616,
          3244,
          3946,
          4683,
          5150,
          6295,
          8058,
          9395,
          10865,
          12583,
          14352,
          16121,
          18177,
          18890,
          22886,
          23394,
          25227,
          27905,
          30384,
          33277,
          36711,
          39782,
          42716,
          45602,
          48228,
          51170,
          53796,
          55865,
          58358,
          60694,
          62494,
          64404,
          67003,
          68324,
          70251,
          72624,
          76034,
          78088,
          80840,
          83312,
          84975,
          87420,
          91692,
          97899,
          98351,
          108000,
          113787,
          122150,
          130915,
          139415,
          149082,
          164566,
          178034,
          193177,
          210263,
          225796,
          246152,
          260012
         ]
        }
       ],
       "layout": {
        "height": 500,
        "template": {
         "data": {
          "bar": [
           {
            "error_x": {
             "color": "#2a3f5f"
            },
            "error_y": {
             "color": "#2a3f5f"
            },
            "marker": {
             "line": {
              "color": "#E5ECF6",
              "width": 0.5
             }
            },
            "type": "bar"
           }
          ],
          "barpolar": [
           {
            "marker": {
             "line": {
              "color": "#E5ECF6",
              "width": 0.5
             }
            },
            "type": "barpolar"
           }
          ],
          "carpet": [
           {
            "aaxis": {
             "endlinecolor": "#2a3f5f",
             "gridcolor": "white",
             "linecolor": "white",
             "minorgridcolor": "white",
             "startlinecolor": "#2a3f5f"
            },
            "baxis": {
             "endlinecolor": "#2a3f5f",
             "gridcolor": "white",
             "linecolor": "white",
             "minorgridcolor": "white",
             "startlinecolor": "#2a3f5f"
            },
            "type": "carpet"
           }
          ],
          "choropleth": [
           {
            "colorbar": {
             "outlinewidth": 0,
             "ticks": ""
            },
            "type": "choropleth"
           }
          ],
          "contour": [
           {
            "colorbar": {
             "outlinewidth": 0,
             "ticks": ""
            },
            "colorscale": [
             [
              0,
              "#0d0887"
             ],
             [
              0.1111111111111111,
              "#46039f"
             ],
             [
              0.2222222222222222,
              "#7201a8"
             ],
             [
              0.3333333333333333,
              "#9c179e"
             ],
             [
              0.4444444444444444,
              "#bd3786"
             ],
             [
              0.5555555555555556,
              "#d8576b"
             ],
             [
              0.6666666666666666,
              "#ed7953"
             ],
             [
              0.7777777777777778,
              "#fb9f3a"
             ],
             [
              0.8888888888888888,
              "#fdca26"
             ],
             [
              1,
              "#f0f921"
             ]
            ],
            "type": "contour"
           }
          ],
          "contourcarpet": [
           {
            "colorbar": {
             "outlinewidth": 0,
             "ticks": ""
            },
            "type": "contourcarpet"
           }
          ],
          "heatmap": [
           {
            "colorbar": {
             "outlinewidth": 0,
             "ticks": ""
            },
            "colorscale": [
             [
              0,
              "#0d0887"
             ],
             [
              0.1111111111111111,
              "#46039f"
             ],
             [
              0.2222222222222222,
              "#7201a8"
             ],
             [
              0.3333333333333333,
              "#9c179e"
             ],
             [
              0.4444444444444444,
              "#bd3786"
             ],
             [
              0.5555555555555556,
              "#d8576b"
             ],
             [
              0.6666666666666666,
              "#ed7953"
             ],
             [
              0.7777777777777778,
              "#fb9f3a"
             ],
             [
              0.8888888888888888,
              "#fdca26"
             ],
             [
              1,
              "#f0f921"
             ]
            ],
            "type": "heatmap"
           }
          ],
          "heatmapgl": [
           {
            "colorbar": {
             "outlinewidth": 0,
             "ticks": ""
            },
            "colorscale": [
             [
              0,
              "#0d0887"
             ],
             [
              0.1111111111111111,
              "#46039f"
             ],
             [
              0.2222222222222222,
              "#7201a8"
             ],
             [
              0.3333333333333333,
              "#9c179e"
             ],
             [
              0.4444444444444444,
              "#bd3786"
             ],
             [
              0.5555555555555556,
              "#d8576b"
             ],
             [
              0.6666666666666666,
              "#ed7953"
             ],
             [
              0.7777777777777778,
              "#fb9f3a"
             ],
             [
              0.8888888888888888,
              "#fdca26"
             ],
             [
              1,
              "#f0f921"
             ]
            ],
            "type": "heatmapgl"
           }
          ],
          "histogram": [
           {
            "marker": {
             "colorbar": {
              "outlinewidth": 0,
              "ticks": ""
             }
            },
            "type": "histogram"
           }
          ],
          "histogram2d": [
           {
            "colorbar": {
             "outlinewidth": 0,
             "ticks": ""
            },
            "colorscale": [
             [
              0,
              "#0d0887"
             ],
             [
              0.1111111111111111,
              "#46039f"
             ],
             [
              0.2222222222222222,
              "#7201a8"
             ],
             [
              0.3333333333333333,
              "#9c179e"
             ],
             [
              0.4444444444444444,
              "#bd3786"
             ],
             [
              0.5555555555555556,
              "#d8576b"
             ],
             [
              0.6666666666666666,
              "#ed7953"
             ],
             [
              0.7777777777777778,
              "#fb9f3a"
             ],
             [
              0.8888888888888888,
              "#fdca26"
             ],
             [
              1,
              "#f0f921"
             ]
            ],
            "type": "histogram2d"
           }
          ],
          "histogram2dcontour": [
           {
            "colorbar": {
             "outlinewidth": 0,
             "ticks": ""
            },
            "colorscale": [
             [
              0,
              "#0d0887"
             ],
             [
              0.1111111111111111,
              "#46039f"
             ],
             [
              0.2222222222222222,
              "#7201a8"
             ],
             [
              0.3333333333333333,
              "#9c179e"
             ],
             [
              0.4444444444444444,
              "#bd3786"
             ],
             [
              0.5555555555555556,
              "#d8576b"
             ],
             [
              0.6666666666666666,
              "#ed7953"
             ],
             [
              0.7777777777777778,
              "#fb9f3a"
             ],
             [
              0.8888888888888888,
              "#fdca26"
             ],
             [
              1,
              "#f0f921"
             ]
            ],
            "type": "histogram2dcontour"
           }
          ],
          "mesh3d": [
           {
            "colorbar": {
             "outlinewidth": 0,
             "ticks": ""
            },
            "type": "mesh3d"
           }
          ],
          "parcoords": [
           {
            "line": {
             "colorbar": {
              "outlinewidth": 0,
              "ticks": ""
             }
            },
            "type": "parcoords"
           }
          ],
          "pie": [
           {
            "automargin": true,
            "type": "pie"
           }
          ],
          "scatter": [
           {
            "marker": {
             "colorbar": {
              "outlinewidth": 0,
              "ticks": ""
             }
            },
            "type": "scatter"
           }
          ],
          "scatter3d": [
           {
            "line": {
             "colorbar": {
              "outlinewidth": 0,
              "ticks": ""
             }
            },
            "marker": {
             "colorbar": {
              "outlinewidth": 0,
              "ticks": ""
             }
            },
            "type": "scatter3d"
           }
          ],
          "scattercarpet": [
           {
            "marker": {
             "colorbar": {
              "outlinewidth": 0,
              "ticks": ""
             }
            },
            "type": "scattercarpet"
           }
          ],
          "scattergeo": [
           {
            "marker": {
             "colorbar": {
              "outlinewidth": 0,
              "ticks": ""
             }
            },
            "type": "scattergeo"
           }
          ],
          "scattergl": [
           {
            "marker": {
             "colorbar": {
              "outlinewidth": 0,
              "ticks": ""
             }
            },
            "type": "scattergl"
           }
          ],
          "scattermapbox": [
           {
            "marker": {
             "colorbar": {
              "outlinewidth": 0,
              "ticks": ""
             }
            },
            "type": "scattermapbox"
           }
          ],
          "scatterpolar": [
           {
            "marker": {
             "colorbar": {
              "outlinewidth": 0,
              "ticks": ""
             }
            },
            "type": "scatterpolar"
           }
          ],
          "scatterpolargl": [
           {
            "marker": {
             "colorbar": {
              "outlinewidth": 0,
              "ticks": ""
             }
            },
            "type": "scatterpolargl"
           }
          ],
          "scatterternary": [
           {
            "marker": {
             "colorbar": {
              "outlinewidth": 0,
              "ticks": ""
             }
            },
            "type": "scatterternary"
           }
          ],
          "surface": [
           {
            "colorbar": {
             "outlinewidth": 0,
             "ticks": ""
            },
            "colorscale": [
             [
              0,
              "#0d0887"
             ],
             [
              0.1111111111111111,
              "#46039f"
             ],
             [
              0.2222222222222222,
              "#7201a8"
             ],
             [
              0.3333333333333333,
              "#9c179e"
             ],
             [
              0.4444444444444444,
              "#bd3786"
             ],
             [
              0.5555555555555556,
              "#d8576b"
             ],
             [
              0.6666666666666666,
              "#ed7953"
             ],
             [
              0.7777777777777778,
              "#fb9f3a"
             ],
             [
              0.8888888888888888,
              "#fdca26"
             ],
             [
              1,
              "#f0f921"
             ]
            ],
            "type": "surface"
           }
          ],
          "table": [
           {
            "cells": {
             "fill": {
              "color": "#EBF0F8"
             },
             "line": {
              "color": "white"
             }
            },
            "header": {
             "fill": {
              "color": "#C8D4E3"
             },
             "line": {
              "color": "white"
             }
            },
            "type": "table"
           }
          ]
         },
         "layout": {
          "annotationdefaults": {
           "arrowcolor": "#2a3f5f",
           "arrowhead": 0,
           "arrowwidth": 1
          },
          "coloraxis": {
           "colorbar": {
            "outlinewidth": 0,
            "ticks": ""
           }
          },
          "colorscale": {
           "diverging": [
            [
             0,
             "#8e0152"
            ],
            [
             0.1,
             "#c51b7d"
            ],
            [
             0.2,
             "#de77ae"
            ],
            [
             0.3,
             "#f1b6da"
            ],
            [
             0.4,
             "#fde0ef"
            ],
            [
             0.5,
             "#f7f7f7"
            ],
            [
             0.6,
             "#e6f5d0"
            ],
            [
             0.7,
             "#b8e186"
            ],
            [
             0.8,
             "#7fbc41"
            ],
            [
             0.9,
             "#4d9221"
            ],
            [
             1,
             "#276419"
            ]
           ],
           "sequential": [
            [
             0,
             "#0d0887"
            ],
            [
             0.1111111111111111,
             "#46039f"
            ],
            [
             0.2222222222222222,
             "#7201a8"
            ],
            [
             0.3333333333333333,
             "#9c179e"
            ],
            [
             0.4444444444444444,
             "#bd3786"
            ],
            [
             0.5555555555555556,
             "#d8576b"
            ],
            [
             0.6666666666666666,
             "#ed7953"
            ],
            [
             0.7777777777777778,
             "#fb9f3a"
            ],
            [
             0.8888888888888888,
             "#fdca26"
            ],
            [
             1,
             "#f0f921"
            ]
           ],
           "sequentialminus": [
            [
             0,
             "#0d0887"
            ],
            [
             0.1111111111111111,
             "#46039f"
            ],
            [
             0.2222222222222222,
             "#7201a8"
            ],
            [
             0.3333333333333333,
             "#9c179e"
            ],
            [
             0.4444444444444444,
             "#bd3786"
            ],
            [
             0.5555555555555556,
             "#d8576b"
            ],
            [
             0.6666666666666666,
             "#ed7953"
            ],
            [
             0.7777777777777778,
             "#fb9f3a"
            ],
            [
             0.8888888888888888,
             "#fdca26"
            ],
            [
             1,
             "#f0f921"
            ]
           ]
          },
          "colorway": [
           "#636efa",
           "#EF553B",
           "#00cc96",
           "#ab63fa",
           "#FFA15A",
           "#19d3f3",
           "#FF6692",
           "#B6E880",
           "#FF97FF",
           "#FECB52"
          ],
          "font": {
           "color": "#2a3f5f"
          },
          "geo": {
           "bgcolor": "white",
           "lakecolor": "white",
           "landcolor": "#E5ECF6",
           "showlakes": true,
           "showland": true,
           "subunitcolor": "white"
          },
          "hoverlabel": {
           "align": "left"
          },
          "hovermode": "closest",
          "mapbox": {
           "style": "light"
          },
          "paper_bgcolor": "white",
          "plot_bgcolor": "#E5ECF6",
          "polar": {
           "angularaxis": {
            "gridcolor": "white",
            "linecolor": "white",
            "ticks": ""
           },
           "bgcolor": "#E5ECF6",
           "radialaxis": {
            "gridcolor": "white",
            "linecolor": "white",
            "ticks": ""
           }
          },
          "scene": {
           "xaxis": {
            "backgroundcolor": "#E5ECF6",
            "gridcolor": "white",
            "gridwidth": 2,
            "linecolor": "white",
            "showbackground": true,
            "ticks": "",
            "zerolinecolor": "white"
           },
           "yaxis": {
            "backgroundcolor": "#E5ECF6",
            "gridcolor": "white",
            "gridwidth": 2,
            "linecolor": "white",
            "showbackground": true,
            "ticks": "",
            "zerolinecolor": "white"
           },
           "zaxis": {
            "backgroundcolor": "#E5ECF6",
            "gridcolor": "white",
            "gridwidth": 2,
            "linecolor": "white",
            "showbackground": true,
            "ticks": "",
            "zerolinecolor": "white"
           }
          },
          "shapedefaults": {
           "line": {
            "color": "#2a3f5f"
           }
          },
          "ternary": {
           "aaxis": {
            "gridcolor": "white",
            "linecolor": "white",
            "ticks": ""
           },
           "baxis": {
            "gridcolor": "white",
            "linecolor": "white",
            "ticks": ""
           },
           "bgcolor": "#E5ECF6",
           "caxis": {
            "gridcolor": "white",
            "linecolor": "white",
            "ticks": ""
           }
          },
          "title": {
           "x": 0.05
          },
          "xaxis": {
           "automargin": true,
           "gridcolor": "white",
           "linecolor": "white",
           "ticks": "",
           "title": {
            "standoff": 15
           },
           "zerolinecolor": "white",
           "zerolinewidth": 2
          },
          "yaxis": {
           "automargin": true,
           "gridcolor": "white",
           "linecolor": "white",
           "ticks": "",
           "title": {
            "standoff": 15
           },
           "zerolinecolor": "white",
           "zerolinewidth": 2
          }
         }
        },
        "title": {
         "text": "Timeline of Covid-19 (Logarithmic)"
        },
        "width": 800,
        "xaxis": {
         "anchor": "y",
         "domain": [
          0,
          1
         ],
         "title": {
          "text": "Timeline"
         }
        },
        "yaxis": {
         "anchor": "x",
         "autorange": true,
         "domain": [
          0,
          1
         ],
         "type": "log"
        }
       }
      }
     },
     "metadata": {}
    }
   ],
   "source": [
    "#Log-graph\n",
    "fig = make_subplots()\n",
    "\n",
    "fig.add_trace(\n",
    "    go.Scatter(x=new_confirmed[\"Timeline\"], y=new_confirmed[\"Covid-19 impact\"], name = 'Infected'))\n",
    "\n",
    "fig.add_trace(\n",
    "    go.Scatter(x=new_death[\"Timeline\"], y=new_death[\"Covid-19 impact\"], name = 'Deaths'))\n",
    "\n",
    "fig.add_trace(\n",
    "    go.Scatter(x=new_recovered[\"Timeline\"], y=new_recovered[\"Covid-19 impact\"], name = 'Recovery'))\n",
    "\n",
    "fig.update_xaxes(title_text=\"Timeline\")\n",
    "\n",
    "\n",
    "fig.update_layout(height=500, width=800, title_text=\"Timeline of Covid-19 (Logarithmic)\", yaxis=dict(type='log', autorange=True))\n",
    "fig.show()"
   ]
  },
  {
   "cell_type": "markdown",
   "metadata": {},
   "source": [
    "This gives a better insight to the exponential development. It can (potentially) hint to when the exponential increase might come to an end, or at least at what pace it is developping. "
   ]
  },
  {
   "cell_type": "markdown",
   "metadata": {},
   "source": [
    "# Conclusion#"
   ]
  },
  {
   "cell_type": "markdown",
   "metadata": {},
   "source": [
    "The conclusion is draw upon the data retrieved on March 6th. From our data project on the spread of Covid-19, it is evident that there are a handfull of countries that are terribly hit by the pandemic both in terms of number of individuals infected and in terms of individuals dying. These countries are the US, Spain, Italy, Germany, France, the UK and Spain. \n",
    "\n",
    "On another, global perspective, the spread of the virus across time was visualised. It shows that, unfortunately the number of infected individuals appears to be exponentially increasing. The number of deaths and recovered individuals are increasing too, but a slower rate. "
   ]
  }
 ],
 "metadata": {
  "kernelspec": {
   "display_name": "Python 3",
   "language": "python",
   "name": "python3"
  },
  "language_info": {
   "codemirror_mode": {
    "name": "ipython",
    "version": 3
   },
   "file_extension": ".py",
   "mimetype": "text/x-python",
   "name": "python",
   "nbconvert_exporter": "python",
   "pygments_lexer": "ipython3",
   "version": "3.7.4-final"
  },
  "toc-autonumbering": true
 },
 "nbformat": 4,
 "nbformat_minor": 4
}