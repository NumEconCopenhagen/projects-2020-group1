{
 "cells": [
  {
   "cell_type": "markdown",
   "metadata": {},
   "source": [
    "# Linear Regression"
   ]
  },
  {
   "cell_type": "code",
   "execution_count": 1,
   "metadata": {},
   "outputs": [],
   "source": [
    "# Import of packages\n",
    "import numpy as np\n",
    "\n",
    "\n",
    "# autoreload modules when code is run\n",
    "%load_ext autoreload\n",
    "%autoreload 2"
   ]
  },
  {
   "cell_type": "markdown",
   "metadata": {},
   "source": [
    "We're given the following linear equation: \n",
    "\n",
    "$$y_i = \\beta_0 + \\beta_1 x_{1,i}+\\beta_2 x_{2,i}+\\epsilon $$\n",
    "\n",
    "Given the information in the exam questions we assume we have access to data of the independent variables $(x_{1,i},x_{2,i})$ and the dependent variabel $(y_i)$ for N individuals, where $i$ indexes individuals. \n",
    "\n",
    "The variable $\\epsilon_i$, is a mean-zero stochastic shock. "
   ]
  },
  {
   "cell_type": "markdown",
   "metadata": {},
   "source": [
    "## Data Generating Process "
   ]
  },
  {
   "cell_type": "code",
   "execution_count": 2,
   "metadata": {},
   "outputs": [],
   "source": [
    "def DGP(N):\n",
    "\n",
    "    # a. independent variables\n",
    "    x1 = np.random.normal(0,1,size=N)\n",
    "    x2 = np.random.normal(0,1,size=N)\n",
    "\n",
    "    # b. errors\n",
    "    eps = np.random.normal(0,1,size=N)\n",
    "\n",
    "    extreme = np.random.uniform(0,1,size=N)\n",
    "    eps[extreme < 0.05] += np.random.normal(-5,1,size=N)[extreme < 0.05]\n",
    "    eps[extreme > 0.95] += np.random.normal(5,1,size=N)[extreme > 0.95]\n",
    "\n",
    "    # c. dependent variable\n",
    "    y = 0.1 + 0.3*x1 + 0.5*x2 + eps\n",
    "    return x1, x2, y"
   ]
  },
  {
   "cell_type": "markdown",
   "metadata": {},
   "source": [
    "** Data accessible: **"
   ]
  },
  {
   "cell_type": "code",
   "execution_count": 3,
   "metadata": {},
   "outputs": [],
   "source": [
    "np.random.seed(2020)\n",
    "x1,x2,y = DGP(10000)"
   ]
  },
  {
   "cell_type": "markdown",
   "metadata": {
    "toc-hr-collapsed": true
   },
   "source": [
    "# Question 1"
   ]
  },
  {
   "cell_type": "code",
   "execution_count": 12,
   "metadata": {},
   "outputs": [
    {
     "output_type": "stream",
     "name": "stdout",
     "text": "stacked:\n [[ 1.          1.          1.         ...  1.          1.\n   1.        ]\n [-1.76884571  0.07555227 -1.1306297  ...  0.0370484   1.70892684\n   2.06128052]\n [-0.18279442  0.78062368 -1.01220533 ... -1.44286811 -0.10668645\n   0.55908184]]\n"
    }
   ],
   "source": [
    "#Creating the matrix X\n",
    "a = [1]*10000\n",
    "X = np.matrix(np.vstack((a,x1,x2)))\n",
    "print('stacked:\\n',X)"
   ]
  },
  {
   "cell_type": "code",
   "execution_count": 13,
   "metadata": {},
   "outputs": [],
   "source": [
    "#Transposing and inversing the matrix X according to the beta_hat given\n",
    "x = X.transpose()\n",
    "X_mul=X @ x\n",
    "X_mul_inv=np.linalg.inv(X_mul)\n",
    "x_mul=X_mul_inv@X\n",
    "y1=y[:,np.newaxis]"
   ]
  },
  {
   "cell_type": "code",
   "execution_count": 14,
   "metadata": {},
   "outputs": [
    {
     "output_type": "execute_result",
     "data": {
      "text/plain": "(array([[0.0956821 ],\n        [0.29294299],\n        [0.50332771]]),\n array([37401.57637219]),\n 3,\n array([100.44468527,  98.9919112 ,  98.41109419]))"
     },
     "metadata": {},
     "execution_count": 14
    }
   ],
   "source": [
    "# Estimating the vector of coefficients using OLS \n",
    "np.linalg.lstsq(x,y1)"
   ]
  },
  {
   "cell_type": "markdown",
   "metadata": {},
   "source": [
    "# Question 2"
   ]
  },
  {
   "cell_type": "code",
   "execution_count": 20,
   "metadata": {},
   "outputs": [],
   "source": [
    "#Prints the same results as obtained in Q1\n",
    "beta=x_mul@y1\n",
    "beta0_hat=float(beta[0])\n",
    "beta1_hat=float(beta[1])\n",
    "beta2_hat=float(beta[2])"
   ]
  },
  {
   "cell_type": "code",
   "execution_count": 21,
   "metadata": {},
   "outputs": [
    {
     "output_type": "execute_result",
     "data": {
      "text/plain": "array([-0.51449434,  0.51072415, -0.74499893, ..., -0.61970033,\n        0.54260199,  0.98092116])"
     },
     "metadata": {},
     "execution_count": 21
    }
   ],
   "source": [
    "#Predicting plane \n",
    "beta0_predict=[beta0_hat]*10000\n",
    "x1_predict=beta1_hat*x1\n",
    "x2_predict=beta2_hat*x2\n",
    "y_predict = beta0_predict + x1_predict + x2_predict\n",
    "y_predict"
   ]
  },
  {
   "cell_type": "markdown",
   "metadata": {},
   "source": [
    "# Conclusion"
   ]
  }
 ],
 "metadata": {
  "kernelspec": {
   "display_name": "Python 3",
   "language": "python",
   "name": "python3"
  },
  "language_info": {
   "codemirror_mode": {
    "name": "ipython",
    "version": 3
   },
   "file_extension": ".py",
   "mimetype": "text/x-python",
   "name": "python",
   "nbconvert_exporter": "python",
   "pygments_lexer": "ipython3",
   "version": "3.7.4-final"
  },
  "toc-autonumbering": true
 },
 "nbformat": 4,
 "nbformat_minor": 4
}