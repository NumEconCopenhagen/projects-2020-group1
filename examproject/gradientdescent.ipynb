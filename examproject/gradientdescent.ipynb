{
 "cells": [
  {
   "cell_type": "markdown",
   "metadata": {},
   "source": [
    "# Q3 - Gradient Descent"
   ]
  },
  {
   "cell_type": "code",
   "execution_count": 10,
   "metadata": {},
   "outputs": [
    {
     "output_type": "stream",
     "name": "stdout",
     "text": "The autoreload extension is already loaded. To reload it, use:\n  %reload_ext autoreload\n"
    }
   ],
   "source": [
    "# Import of packages\n",
    "import numpy as np\n",
    "import scipy as sp\n",
    "from scipy import linalg\n",
    "from scipy import optimize\n",
    "from scipy import interpolate\n",
    "import sympy as sm\n",
    "\n",
    "%matplotlib inline\n",
    "import matplotlib.pyplot as plt\n",
    "plt.style.use('seaborn-whitegrid')\n",
    "from matplotlib import cm\n",
    "from mpl_toolkits.mplot3d import Axes3D\n",
    "\n",
    "# autoreload modules when code is run\n",
    "%load_ext autoreload\n",
    "%autoreload 2"
   ]
  },
  {
   "cell_type": "code",
   "execution_count": 11,
   "metadata": {},
   "outputs": [],
   "source": [
    "# Setting symbols\n",
    "x1 = sm.symbols('x_1')\n",
    "x2 = sm.symbols('x_2')\n",
    "delta = sm.symbols('delta')\n",
    "epsilon = sm.symbols('epsilon')\n",
    "Theta = sm.symbols('Theta')\n",
    "theta = sm.symbols('theta')"
   ]
  },
  {
   "cell_type": "markdown",
   "metadata": {},
   "source": [
    "Defineing the rosenbrock function  "
   ]
  },
  {
   "cell_type": "code",
   "execution_count": 12,
   "metadata": {},
   "outputs": [
    {
     "output_type": "execute_result",
     "data": {
      "text/plain": "Matrix([\n[-8*x_1*(-x_1**2 + x_2) + 2*x_1 - 2.0],\n[                   -4*x_1**2 + 4*x_2]])",
      "text/latex": "$\\displaystyle \\left[\\begin{matrix}- 8 x_{1} \\left(- x_{1}^{2} + x_{2}\\right) + 2 x_{1} - 2.0\\\\- 4 x_{1}^{2} + 4 x_{2}\\end{matrix}\\right]$"
     },
     "metadata": {},
     "execution_count": 12
    }
   ],
   "source": [
    "def ros(x1,x2):\n",
    "    f = (1.0-x1)**2 + 2*(x2-x1**2)**2\n",
    "f = (1.0-x1)**2 + 2*(x2-x1**2)**2\n",
    "\n",
    "jacmatrix = sm.Matrix([sm.diff(f,i) for i in [x1,x2]])\n",
    "\n",
    "jacmatrix"
   ]
  },
  {
   "cell_type": "markdown",
   "metadata": {},
   "source": [
    "Next we combine the Rosenbrock function with the jacobian matrix (gradient)"
   ]
  },
  {
   "cell_type": "code",
   "execution_count": 13,
   "metadata": {},
   "outputs": [],
   "source": [
    "def rosen(x):\n",
    "    return ros(x[0],x[1])\n",
    "\n",
    "#Computeing the numerical approximation of the jacobian (step 3)\n",
    "\n",
    "def rosenjac(x):\n",
    "    return np.array([-(2.0-2*x[0])-8*x[0]*(x[1]-x[0]**2),4*(x[1]-x[0]**2)])"
   ]
  },
  {
   "cell_type": "markdown",
   "metadata": {},
   "source": [
    "We use the gradient_descent() as our algorithm method. In the following 10 steps we minimize the function f(x)   "
   ]
  },
  {
   "cell_type": "code",
   "execution_count": 43,
   "metadata": {},
   "outputs": [],
   "source": [
    "# 1. Choose: tolerance, scale factor and a small number\n",
    "def gradient_descent(f,x0,epsilon=1e-6,Theta=0.1,Delta=1e-8,max_iter=10_000):\n",
    "\n",
    "    # 2. Guessing on x_0 and setting n=1\n",
    "    x = x0\n",
    "    fx = f(x0)\n",
    "    n = 1\n",
    "\n",
    "    while n < max_iter: \n",
    "        x_prev = x\n",
    "        fx_prev = fx\n",
    "\n",
    "        # 3. Compute a numerical approximation of the jacobian\n",
    "        jacx = rosenjac(x)\n",
    "\n",
    "        # 4. and 5. defining new variables  \n",
    "        fx_ast = np.inf\n",
    "        theta_ast = Theta\n",
    "        \n",
    "\n",
    "        #6. implementing stepsize \n",
    "        theta=Theta/2      \n",
    "        #7. continue the loop\n",
    "        if fx < fx_ast:\n",
    "            fx_ast = fx\n",
    "            theta_ast = theta\n",
    "\n",
    "        # 8. last step of the minimizeation \n",
    "        x = x_prev - theta_ast*jacx\n",
    "        fx = f(x)\n",
    "        if abs(fx-fx_prev) < Delta:\n",
    "            break\n",
    "        # 9. implemmenting restriction \n",
    "        fx = f(x)\n",
    "        if abs(fx<fx_prev) < epsilon:\n",
    "            break\n",
    "                \n",
    "        # 10. the loop is done\n",
    "        n += 1\n",
    "        \n",
    "    return x,n\n",
    "    pass"
   ]
  },
  {
   "cell_type": "markdown",
   "metadata": {},
   "source": [
    "Testing the case:"
   ]
  },
  {
   "cell_type": "code",
   "execution_count": 44,
   "metadata": {},
   "outputs": [
    {
     "output_type": "stream",
     "name": "stdout",
     "text": "minimum found at (1.0005,1.0011) after 255 iterations\nnot implemented yet\n"
    }
   ],
   "source": [
    "def rosen(x):\n",
    "    return (1.0-x[0])**2+2*(x[1]-x[0]**2)**2\n",
    "\n",
    "x0 = np.array([1.1,1.1])\n",
    "try:\n",
    "    x,it = gradient_descent(rosen,x0)\n",
    "    print(f'minimum found at ({x[0]:.4f},{x[1]:.4f}) after {it} iterations')\n",
    "    assert np.allclose(x,[1,1])\n",
    "except:\n",
    "    print('not implemented yet')"
   ]
  },
  {
   "cell_type": "markdown",
   "metadata": {},
   "source": [
    "# Conclusion\n",
    "\n"
   ]
  },
  {
   "cell_type": "markdown",
   "metadata": {},
   "source": [
    "We used the Rosenbrock function with the jacobian matrix to minimize the given function. By applying gradient_descent() as our algorithm we found the minimum to be (1.1000,1.1000)  "
   ]
  }
 ],
 "metadata": {
  "kernelspec": {
   "display_name": "Python 3",
   "language": "python",
   "name": "python3"
  },
  "language_info": {
   "codemirror_mode": {
    "name": "ipython",
    "version": 3
   },
   "file_extension": ".py",
   "mimetype": "text/x-python",
   "name": "python",
   "nbconvert_exporter": "python",
   "pygments_lexer": "ipython3",
   "version": "3.7.6-final"
  },
  "toc-autonumbering": true
 },
 "nbformat": 4,
 "nbformat_minor": 4
}