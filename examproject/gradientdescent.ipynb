{
 "cells": [
  {
   "cell_type": "markdown",
   "metadata": {},
   "source": [
    "# Q3 - Gradient Descent"
   ]
  },
  {
   "cell_type": "code",
   "execution_count": null,
   "metadata": {},
   "outputs": [],
   "source": [
    "# Import of packages\n",
    "import numpy as np\n",
    "import scipy as sp\n",
    "from scipy import linalg\n",
    "from scipy import optimize\n",
    "from scipy import interpolate\n",
    "import sympy as sm\n",
    "\n",
    "%matplotlib inline\n",
    "import matplotlib.pyplot as plt\n",
    "plt.style.use('seaborn-whitegrid')\n",
    "from matplotlib import cm\n",
    "from mpl_toolkits.mplot3d import Axes3D\n",
    "\n",
    "# autoreload modules when code is run\n",
    "%load_ext autoreload\n",
    "%autoreload 2"
   ]
  },
  {
   "cell_type": "code",
   "execution_count": null,
   "metadata": {},
   "outputs": [],
   "source": [
    "# Setting symbols\n",
    "x1 = sm.symbols('x_1')\n",
    "x2 = sm.symbols('x_2')\n",
    "delta = sm.symbols('delta')\n",
    "epsilon = sm.symbols('epsilon')\n",
    "Theta = sm.symbols('Theta')\n",
    "theta = sm.symbols('theta')"
   ]
  },
  {
   "cell_type": "code",
   "execution_count": 46,
   "metadata": {},
   "outputs": [
    {
     "output_type": "execute_result",
     "data": {
      "text/plain": "Matrix([\n[-8*x_1*(-x_1**2 + x_2) + 2*x_1 - 2.0],\n[                   -4*x_1**2 + 4*x_2]])",
      "text/latex": "$\\displaystyle \\left[\\begin{matrix}- 8 x_{1} \\left(- x_{1}^{2} + x_{2}\\right) + 2 x_{1} - 2.0\\\\- 4 x_{1}^{2} + 4 x_{2}\\end{matrix}\\right]$"
     },
     "metadata": {},
     "execution_count": 46
    }
   ],
   "source": [
    "def ros(x1,x2):\n",
    "    f = (1.0-x1)**2 + 2*(x2-x1**2)**2\n",
    "f = (1.0-x1)**2 + 2*(x2-x1**2)**2\n",
    "\n",
    "jacmatrix = sm.Matrix([sm.diff(f,i) for i in [x1,x2]])\n",
    "\n",
    "jacmatrix\n",
    "\n"
   ]
  },
  {
   "cell_type": "code",
   "execution_count": 48,
   "metadata": {},
   "outputs": [],
   "source": [
    "def rosen(x):\n",
    "    return ros(x[0],x[1])\n",
    "def rosenjac(x):\n",
    "    return np.array([-(2.0-2*x[0])-8*x[0]*(x[1]-x[0]**2),4*(x[1]-x[0]**2)])"
   ]
  },
  {
   "cell_type": "code",
   "execution_count": 59,
   "metadata": {},
   "outputs": [],
   "source": [
    "# 1. \n",
    "def gradient_descent(f,x0,epsilon=1e-6,Theta=0.1,Delta=1e-8,max_iter=10_000):\n",
    "\n",
    "    # 2. Guessing on x_0 and setting  n=1\n",
    "    x = x0\n",
    "    fx = f(x0)\n",
    "    n = 1\n",
    "\n",
    "    while n < max_iter: \n",
    "        x_prev = x\n",
    "        fx_prev = fx\n",
    "\n",
    "        # 3. \n",
    "        jacx = rosenjac(x)\n",
    "\n",
    "        # 4.\n",
    "        fx = f(x)\n",
    "        if abs(fx<fx_prev) < epsilon:\n",
    "            break\n",
    "        #5+6.\n",
    "        fx_ast = np.inf\n",
    "        theta_ast = Theta\n",
    "        #8.\n",
    "        theta=Theta/2      \n",
    "        #7.\n",
    "        if fx < fx_ast:\n",
    "            fx_ast = fx\n",
    "            theta_ast = theta\n",
    "\n",
    "        # 9.\n",
    "        x = x_prev - theta_ast*jacx\n",
    "                                \n",
    "        # ??\n",
    "        fx = f(x)\n",
    "        if abs(fx-fx_prev) < Delta:\n",
    "            break\n",
    "                \n",
    "        # 10.\n",
    "        n += 1\n",
    "        \n",
    "    return x,n\n",
    "    pass"
   ]
  },
  {
   "cell_type": "code",
   "execution_count": 60,
   "metadata": {},
   "outputs": [
    {
     "output_type": "stream",
     "name": "stdout",
     "text": "minimum found at (1.1000,1.1000) after 1 iterations\nnot implemented yet\n"
    }
   ],
   "source": [
    "def rosen(x):\n",
    "    return (1.0-x[0])**2+2*(x[1]-x[0]**2)**2\n",
    "\n",
    "x0 = np.array([1.1,1.1])\n",
    "try:\n",
    "    x,it = gradient_descent(rosen,x0)\n",
    "    print(f'minimum found at ({x[0]:.4f},{x[1]:.4f}) after {it} iterations')\n",
    "    assert np.allclose(x,[1,1])\n",
    "except:\n",
    "    print('not implemented yet')"
   ]
  },
  {
   "cell_type": "markdown",
   "metadata": {
    "toc-hr-collapsed": true
   },
   "source": [
    "# Question"
   ]
  },
  {
   "cell_type": "code",
   "execution_count": null,
   "metadata": {},
   "outputs": [],
   "source": [
    "x = np.array([x1,x2])\n",
    "\n",
    "\n",
    "\n",
    "    fx=1/Delta*[np.array(f(x+np.array([Delta, 0]))-f(x),f(x+np.array([0,Delta]))-f(x))]"
   ]
  },
  {
   "cell_type": "markdown",
   "metadata": {},
   "source": [
    "### 1. Choosing a tolerance $\\epsilon > 0$, a scale factor $\\theta$ and a small number for $\\Delta$"
   ]
  },
  {
   "cell_type": "code",
   "execution_count": null,
   "metadata": {},
   "outputs": [],
   "source": [
    "epsilon = sm.symbols('epsilon')\n",
    "Theta = sm.symbols('Theta')\n",
    "Delta = sm.symbols('Delta')"
   ]
  },
  {
   "cell_type": "markdown",
   "metadata": {},
   "source": [
    "### 2. Guessing on $x_0$ and setting $n=1$"
   ]
  },
  {
   "cell_type": "code",
   "execution_count": null,
   "metadata": {},
   "outputs": [],
   "source": [
    "epsilon = 1e-6\n",
    "Theta = 0.1\n",
    "Delta = 1e-8\n",
    "\n",
    "def gradient_descent(f,x0,epsilon,Theta,Delta, max_iter=10_000):\n",
    "\n",
    "    # 2 Guessing on x_0 and setting  n=1\n",
    "    x0 = np.array([1.1,1.1])\n",
    "    n = 1"
   ]
  },
  {
   "cell_type": "markdown",
   "metadata": {},
   "source": [
    "### 3. Computing a numerical approximation for the jacobian for f "
   ]
  },
  {
   "cell_type": "markdown",
   "metadata": {},
   "source": [
    "### 4. Stopping if the maximum element in $\\triangledown f(x_{n-1})$ is less than $\\epsilon$"
   ]
  },
  {
   "cell_type": "markdown",
   "metadata": {},
   "source": [
    "### 5. Setting $\\theta=$ \\Theta $"
   ]
  },
  {
   "cell_type": "markdown",
   "metadata": {},
   "source": [
    "### 6. Computing $f_n^\\theta=f(x_{n-1}-\\theta\\triangledown f(x_{n-1}))$"
   ]
  },
  {
   "cell_type": "markdown",
   "metadata": {},
   "source": [
    "** Code given in the exam paper **"
   ]
  },
  {
   "cell_type": "code",
   "execution_count": null,
   "metadata": {},
   "outputs": [],
   "source": [
    "def gradient_descent(f,x0,epsilon=1e-6,Theta=0.1,Delta=1e-8,max_iter=10_000):\n",
    "    pass"
   ]
  },
  {
   "cell_type": "code",
   "execution_count": null,
   "metadata": {},
   "outputs": [],
   "source": [
    "def rosen(x):\n",
    "    return (1.0-x[0])**2+2*(x[1]-x[0]**2)**2\n",
    "\n",
    "x0 = np.array([1.1,1.1])\n",
    "try:\n",
    "    x,it = gradient_descent(rosen,x0)\n",
    "    print(f'minimum found at ({x[0]:.4f},{x[1]:.4f}) after {it} iterations')\n",
    "    assert np.allclose(x,[1,1])\n",
    "except:\n",
    "    print('not implemented yet')"
   ]
  },
  {
   "cell_type": "markdown",
   "metadata": {},
   "source": [
    "# Conclusion"
   ]
  }
 ],
 "metadata": {
  "kernelspec": {
   "display_name": "Python 3",
   "language": "python",
   "name": "python3"
  },
  "language_info": {
   "codemirror_mode": {
    "name": "ipython",
    "version": 3
   },
   "file_extension": ".py",
   "mimetype": "text/x-python",
   "name": "python",
   "nbconvert_exporter": "python",
   "pygments_lexer": "ipython3",
   "version": "3.7.6-final"
  },
  "toc-autonumbering": true
 },
 "nbformat": 4,
 "nbformat_minor": 4
}