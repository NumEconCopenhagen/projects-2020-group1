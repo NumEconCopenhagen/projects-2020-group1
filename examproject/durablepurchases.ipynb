{
 "cells": [
  {
   "cell_type": "markdown",
   "metadata": {},
   "source": [
    "# Q2 - Durable Purchases"
   ]
  },
  {
   "cell_type": "markdown",
   "metadata": {},
   "source": [
    "Imports and set magics:"
   ]
  },
  {
   "cell_type": "code",
   "execution_count": null,
   "metadata": {},
   "outputs": [],
   "source": [
    "# Import of packages\n",
    "import numpy as np\n",
    "import scipy as sp\n",
    "from scipy import linalg\n",
    "from scipy import optimize\n",
    "from scipy import interpolate\n",
    "import sympy as sm\n",
    "\n",
    "%matplotlib inline\n",
    "import matplotlib.pyplot as plt\n",
    "plt.style.use('seaborn-whitegrid')\n",
    "from matplotlib import cm\n",
    "from mpl_toolkits.mplot3d import Axes3D\n",
    "\n",
    "# autoreload modules when code is run\n",
    "%load_ext autoreload\n",
    "%autoreload 2"
   ]
  },
  {
   "cell_type": "markdown",
   "metadata": {
    "toc-hr-collapsed": true
   },
   "source": [
    "# Question 1"
   ]
  },
  {
   "cell_type": "markdown",
   "metadata": {},
   "source": [
    "## Basic functions:"
   ]
  },
  {
   "cell_type": "code",
   "execution_count": null,
   "metadata": {},
   "outputs": [],
   "source": [
    "def v2(m2,d,alpha,rho,chi):\n",
    "    x = m2 - c\n",
    "    return ((c**alpha*(d+chi*x)**(1-alpha))**(1-rho))/(1-rho)\n",
    "\n",
    "def v1(a,d,Delta,v2_interp,r,m2,v2):\n",
    "    m1 = a + d\n",
    "     # a. v2 value, if low income\n",
    "    m2_low = (1+r)*a + 1-Delta\n",
    "    v2_low = v2_interp([m2_low])[0]\n",
    "\n",
    "    # b. v2 value, if medium income\n",
    "    m2_medium = (1+r)*a + 1\n",
    "    v2_medium = v2_interp([m2_medium])[0]\n",
    "    \n",
    "    # c. v2 value, if high income\n",
    "    m2_high = (1+r)*a + 1+Delta\n",
    "    v2_high = v2_interp([m2_high])[0]\n",
    "    \n",
    "    # d. expected v2 value\n",
    "    v2 = 1/3*v2_low + 1/3*v2_medium + 1/3*v2_high\n",
    "\n",
    "    # e. total value\n",
    "    return beta*v2\n"
   ]
  },
  {
   "cell_type": "markdown",
   "metadata": {},
   "source": [
    "## Parameters:"
   ]
  },
  {
   "cell_type": "code",
   "execution_count": null,
   "metadata": {},
   "outputs": [],
   "source": [
    "    rho = 2\n",
    "    alpha = 0.8\n",
    "    beta = 0.96\n",
    "    r = 0.04\n",
    "    Delta = 0.25\n",
    "    chi = 0.9\n"
   ]
  },
  {
   "cell_type": "markdown",
   "metadata": {},
   "source": [
    "## Solution functions:"
   ]
  },
  {
   "cell_type": "code",
   "execution_count": 71,
   "metadata": {},
   "outputs": [
    {
     "output_type": "error",
     "ename": "IndentationError",
     "evalue": "expected an indented block (<ipython-input-71-9340e6a2c69c>, line 14)",
     "traceback": [
      "\u001b[1;36m  File \u001b[1;32m\"<ipython-input-71-9340e6a2c69c>\"\u001b[1;36m, line \u001b[1;32m14\u001b[0m\n\u001b[1;33m    obj = lambda c: -v2(c,rho,d,alpha,chi,m2)\u001b[0m\n\u001b[1;37m      ^\u001b[0m\n\u001b[1;31mIndentationError\u001b[0m\u001b[1;31m:\u001b[0m expected an indented block\n"
     ]
    }
   ],
   "source": [
    "def solve_period_2(alpha,rho,chi):\n",
    "\n",
    "    # a. grids\n",
    "    m2_vec = np.linspace(1e-8,10,100)\n",
    "    v2_vec = np.empty(100,100)\n",
    "    c_vec = np.empty(100,100)\n",
    "    x_vec = np.empty(100,100)\n",
    "\n",
    "    # b. solve for each m2 in grid\n",
    "    for j,d in enumerate(d_vec):\n",
    "        for i,m2 in enumerate(m2_vec):\n",
    "\n",
    "        # i. objective\n",
    "        obj = lambda c: -v2(c,rho,d,alpha,chi,m2)\n",
    "\n",
    "        # ii. initial value (consume half)\n",
    "        x0 = m2/2\n",
    "\n",
    "        # iii. optimizer\n",
    "        result = optimize.minimize_scalar(obj,x0,method='bounded',bounds=[1e-8,m2])\n",
    "\n",
    "        # iv. save\n",
    "        v2_vec[i,j] = -result.fun\n",
    "        c_vec[i,j] = result.x\n",
    "        x_vec[i,j] = m2 - result.x\n",
    "        \n",
    "    return m2_vec,v2_vec,c_vec,x_vec\n"
   ]
  },
  {
   "cell_type": "code",
   "execution_count": null,
   "metadata": {},
   "outputs": [],
   "source": [
    "    # solve\n",
    "m2_vec,c_vec,v2_vec,x_vec = solve_period_2(m2,alpha,rho,c,chi,d)\n",
    "\n",
    "# illustration\n",
    "fig = plt.figure(figsize=(10,4))\n",
    "ax = fig.add_subplot(1,2,1)\n",
    "ax.plot(m2_vec,c_vec)\n",
    "ax.set_xlabel('$m_2$')\n",
    "ax.set_ylabel('$c$')\n",
    "ax.set_title('non-durable consumption function in period 2')\n",
    "\n",
    "ax = fig.add_subplot(1,2,2)\n",
    "ax.plot(m2_vec,x_vec)\n",
    "ax.set_xlabel('$m_2$')\n",
    "ax.set_ylabel('$x$')\n",
    "ax.set_title('durable consumption function in period 2')\n",
    "ax.set_ylim([-40,1]);\n",
    "\n",
    "ax = fig.add_subplot(1,2,2)\n",
    "ax.plot(m2_vec,v2_vec)\n",
    "ax.set_xlabel('$m_2$')\n",
    "ax.set_ylabel('$v_2$')\n",
    "ax.set_title('value function in period 2')\n",
    "ax.set_ylim([-40,1]);"
   ]
  },
  {
   "cell_type": "code",
   "execution_count": null,
   "metadata": {},
   "outputs": [],
   "source": [
    "v2_interp = interpolate.RegularGridInterpolator([m2_vec], v2_vec,bounds_error=False,fill_value=None)"
   ]
  },
  {
   "cell_type": "code",
   "execution_count": null,
   "metadata": {},
   "outputs": [],
   "source": [
    "def solve_period_1(rho,beta,r,a,Delta,v2_interp):\n",
    "\n",
    "    # a. grids\n",
    "    m1_vec = np.linspace(1e-8,4,100)\n",
    "    v1_vec = np.empty(100)\n",
    "    c1_vec = np.empty(100)\n",
    "    \n",
    "    # b. solve for each m1 in grid\n",
    "    for i,m1 in enumerate(m1_vec):\n",
    "        \n",
    "        # i. objective\n",
    "        obj = lambda c: -v1(m1,d,a)\n",
    "        \n",
    "        # ii. initial guess (consume half)\n",
    "        x0 = m1*1/2\n",
    "        \n",
    "        # iii. optimize\n",
    "        result = optimize.minimize_scalar(obj,x0,method='bounded',bounds=[1e-8,m1])\n",
    "        \n",
    "        # iv. save\n",
    "        v1_vec[i] = -result.fun\n",
    "        c_vec[i] = result.x\n",
    "     \n",
    "    return m1_vec,v1_vec,c_vec\n",
    "\n",
    "# solve\n",
    "m1_vec,v1_vec,c_vec = solve_period_1(rho,beta,r,Delta,v2_interp)\n",
    "\n",
    "# illustrate\n",
    "fig = plt.figure(figsize=(10,4))\n",
    "ax = fig.add_subplot(1,2,1)\n",
    "ax.plot(m1_vec,c1_vec)\n",
    "ax.set_xlabel('$m_1$')\n",
    "ax.set_ylabel('$c_1$')\n",
    "ax.set_title('consumption function in period 1')\n",
    "\n",
    "ax = fig.add_subplot(1,2,2)\n",
    "ax.plot(m1_vec,v1_vec)\n",
    "ax.set_xlabel('$m_1$')\n",
    "ax.set_ylabel('$c_1$')\n",
    "ax.set_title('value function in period 1')\n",
    "ax.set_ylim([-40,1]);"
   ]
  },
  {
   "cell_type": "markdown",
   "metadata": {},
   "source": [
    "## Question A:"
   ]
  },
  {
   "cell_type": "code",
   "execution_count": null,
   "metadata": {},
   "outputs": [],
   "source": []
  },
  {
   "cell_type": "markdown",
   "metadata": {},
   "source": [
    "# Conclusion"
   ]
  }
 ],
 "metadata": {
  "kernelspec": {
   "display_name": "Python 3",
   "language": "python",
   "name": "python3"
  },
  "language_info": {
   "codemirror_mode": {
    "name": "ipython",
    "version": 3
   },
   "file_extension": ".py",
   "mimetype": "text/x-python",
   "name": "python",
   "nbconvert_exporter": "python",
   "pygments_lexer": "ipython3",
   "version": "3.7.6-final"
  },
  "toc-autonumbering": true
 },
 "nbformat": 4,
 "nbformat_minor": 4
}